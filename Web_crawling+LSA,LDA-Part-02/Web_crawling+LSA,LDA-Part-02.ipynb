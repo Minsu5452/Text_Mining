{
 "cells": [
  {
   "cell_type": "markdown",
   "metadata": {
    "id": "zfTh8eJ2rMeL"
   },
   "source": [
    "## 토픽 모델링 실제"
   ]
  },
  {
   "cell_type": "code",
   "execution_count": null,
   "metadata": {
    "id": "ZKMG5rHZre3J"
   },
   "outputs": [],
   "source": [
    "# 폴더구성\n",
    "# TopicModeling_1/dataset/1.Data/contents.xlsx : 소스문서파일(뉴스), Data_stop_word : 불용어 파일\n",
    "# TopicModeling_1/dataset/2.Model/ : 실험 중\n",
    "# TopicModeling_1/dataset/3.Result/: 실험 결과"
   ]
  },
  {
   "cell_type": "code",
   "execution_count": null,
   "metadata": {
    "colab": {
     "base_uri": "https://localhost:8080/"
    },
    "executionInfo": {
     "elapsed": 2353,
     "status": "ok",
     "timestamp": 1653373015206,
     "user": {
      "displayName": "강민수",
      "userId": "02270149204876897928"
     },
     "user_tz": -540
    },
    "id": "DGIOIMVerf1Z",
    "outputId": "dcd62e7e-224f-40c8-e550-53da55581bee"
   },
   "outputs": [
    {
     "name": "stdout",
     "output_type": "stream",
     "text": [
      "Drive already mounted at /content/gdrive; to attempt to forcibly remount, call drive.mount(\"/content/gdrive\", force_remount=True).\n"
     ]
    }
   ],
   "source": [
    "from google.colab import drive\n",
    "drive.mount('/content/gdrive')"
   ]
  },
  {
   "cell_type": "code",
   "execution_count": null,
   "metadata": {
    "colab": {
     "base_uri": "https://localhost:8080/"
    },
    "executionInfo": {
     "elapsed": 10,
     "status": "ok",
     "timestamp": 1653373015206,
     "user": {
      "displayName": "강민수",
      "userId": "02270149204876897928"
     },
     "user_tz": -540
    },
    "id": "_92c0SJwrf-L",
    "outputId": "640e92e7-76e8-4652-823a-4d7c9ca5a486"
   },
   "outputs": [
    {
     "name": "stdout",
     "output_type": "stream",
     "text": [
      "dataset download!!!\n"
     ]
    }
   ],
   "source": [
    "#파일 업로드\n",
    "import shutil\n",
    "try:\n",
    "  shutil.copy('/content/gdrive/MyDrive/text/11주차/토픽2/dataset.zip', '/content/')\n",
    "  print('dataset download!!!')\n",
    "except Exception as err:\n",
    "  print(str(err))"
   ]
  },
  {
   "cell_type": "code",
   "execution_count": null,
   "metadata": {
    "colab": {
     "base_uri": "https://localhost:8080/"
    },
    "executionInfo": {
     "elapsed": 9,
     "status": "ok",
     "timestamp": 1653373015207,
     "user": {
      "displayName": "강민수",
      "userId": "02270149204876897928"
     },
     "user_tz": -540
    },
    "id": "pNtEj7Prr5pV",
    "outputId": "895ab946-0853-45cd-9eaa-153d7661ae3c"
   },
   "outputs": [
    {
     "name": "stdout",
     "output_type": "stream",
     "text": [
      "ok\n"
     ]
    }
   ],
   "source": [
    "# 압축 풀고 디렉토리 생성\n",
    "\n",
    "import zipfile\n",
    "\n",
    "with zipfile.ZipFile('/content/dataset.zip', 'r') as target_file:\n",
    "    target_file.extractall('/content/dataset/')\n",
    "print('ok')"
   ]
  },
  {
   "cell_type": "markdown",
   "metadata": {
    "id": "ItVgkW35rMeM"
   },
   "source": [
    "### Package Import"
   ]
  },
  {
   "cell_type": "code",
   "execution_count": null,
   "metadata": {
    "colab": {
     "base_uri": "https://localhost:8080/"
    },
    "executionInfo": {
     "elapsed": 5041,
     "status": "ok",
     "timestamp": 1653373020242,
     "user": {
      "displayName": "강민수",
      "userId": "02270149204876897928"
     },
     "user_tz": -540
    },
    "id": "vM_AT6hXs3w5",
    "outputId": "c1f10463-e95e-4c4e-952a-384e6509c115"
   },
   "outputs": [
    {
     "name": "stdout",
     "output_type": "stream",
     "text": [
      "Looking in indexes: https://pypi.org/simple, https://us-python.pkg.dev/colab-wheels/public/simple/\n",
      "Requirement already satisfied: ujson in /usr/local/lib/python3.7/dist-packages (5.3.0)\n",
      "Looking in indexes: https://pypi.org/simple, https://us-python.pkg.dev/colab-wheels/public/simple/\n",
      "Requirement already satisfied: gensim in /usr/local/lib/python3.7/dist-packages (3.6.0)\n",
      "Requirement already satisfied: numpy>=1.11.3 in /usr/local/lib/python3.7/dist-packages (from gensim) (1.21.6)\n",
      "Requirement already satisfied: smart-open>=1.2.1 in /usr/local/lib/python3.7/dist-packages (from gensim) (6.0.0)\n",
      "Requirement already satisfied: scipy>=0.18.1 in /usr/local/lib/python3.7/dist-packages (from gensim) (1.4.1)\n",
      "Requirement already satisfied: six>=1.5.0 in /usr/local/lib/python3.7/dist-packages (from gensim) (1.15.0)\n"
     ]
    }
   ],
   "source": [
    "!pip install ujson\n",
    "!pip install gensim"
   ]
  },
  {
   "cell_type": "code",
   "execution_count": null,
   "metadata": {
    "colab": {
     "base_uri": "https://localhost:8080/"
    },
    "executionInfo": {
     "elapsed": 4959,
     "status": "ok",
     "timestamp": 1653373025191,
     "user": {
      "displayName": "강민수",
      "userId": "02270149204876897928"
     },
     "user_tz": -540
    },
    "id": "IyN8RGaVviYx",
    "outputId": "714f61c5-5946-411d-c1a3-cc1ebe75e573"
   },
   "outputs": [
    {
     "name": "stdout",
     "output_type": "stream",
     "text": [
      "Looking in indexes: https://pypi.org/simple, https://us-python.pkg.dev/colab-wheels/public/simple/\n",
      "Requirement already satisfied: konlpy in /usr/local/lib/python3.7/dist-packages (0.6.0)\n",
      "Requirement already satisfied: lxml>=4.1.0 in /usr/local/lib/python3.7/dist-packages (from konlpy) (4.2.6)\n",
      "Requirement already satisfied: numpy>=1.6 in /usr/local/lib/python3.7/dist-packages (from konlpy) (1.21.6)\n",
      "Requirement already satisfied: JPype1>=0.7.0 in /usr/local/lib/python3.7/dist-packages (from konlpy) (1.4.0)\n",
      "Requirement already satisfied: typing-extensions in /usr/local/lib/python3.7/dist-packages (from JPype1>=0.7.0->konlpy) (4.2.0)\n",
      "Looking in indexes: https://pypi.org/simple, https://us-python.pkg.dev/colab-wheels/public/simple/\n",
      "Requirement already satisfied: pyLDAvis in /usr/local/lib/python3.7/dist-packages (3.3.1)\n",
      "Requirement already satisfied: pandas>=1.2.0 in /usr/local/lib/python3.7/dist-packages (from pyLDAvis) (1.3.5)\n",
      "Requirement already satisfied: future in /usr/local/lib/python3.7/dist-packages (from pyLDAvis) (0.16.0)\n",
      "Requirement already satisfied: jinja2 in /usr/local/lib/python3.7/dist-packages (from pyLDAvis) (2.11.3)\n",
      "Requirement already satisfied: joblib in /usr/local/lib/python3.7/dist-packages (from pyLDAvis) (1.1.0)\n",
      "Requirement already satisfied: sklearn in /usr/local/lib/python3.7/dist-packages (from pyLDAvis) (0.0)\n",
      "Requirement already satisfied: numpy>=1.20.0 in /usr/local/lib/python3.7/dist-packages (from pyLDAvis) (1.21.6)\n",
      "Requirement already satisfied: gensim in /usr/local/lib/python3.7/dist-packages (from pyLDAvis) (3.6.0)\n",
      "Requirement already satisfied: scipy in /usr/local/lib/python3.7/dist-packages (from pyLDAvis) (1.4.1)\n",
      "Requirement already satisfied: scikit-learn in /usr/local/lib/python3.7/dist-packages (from pyLDAvis) (1.0.2)\n",
      "Requirement already satisfied: setuptools in /usr/local/lib/python3.7/dist-packages (from pyLDAvis) (57.4.0)\n",
      "Requirement already satisfied: funcy in /usr/local/lib/python3.7/dist-packages (from pyLDAvis) (1.17)\n",
      "Requirement already satisfied: numexpr in /usr/local/lib/python3.7/dist-packages (from pyLDAvis) (2.8.1)\n",
      "Requirement already satisfied: python-dateutil>=2.7.3 in /usr/local/lib/python3.7/dist-packages (from pandas>=1.2.0->pyLDAvis) (2.8.2)\n",
      "Requirement already satisfied: pytz>=2017.3 in /usr/local/lib/python3.7/dist-packages (from pandas>=1.2.0->pyLDAvis) (2022.1)\n",
      "Requirement already satisfied: six>=1.5 in /usr/local/lib/python3.7/dist-packages (from python-dateutil>=2.7.3->pandas>=1.2.0->pyLDAvis) (1.15.0)\n",
      "Requirement already satisfied: smart-open>=1.2.1 in /usr/local/lib/python3.7/dist-packages (from gensim->pyLDAvis) (6.0.0)\n",
      "Requirement already satisfied: MarkupSafe>=0.23 in /usr/local/lib/python3.7/dist-packages (from jinja2->pyLDAvis) (2.0.1)\n",
      "Requirement already satisfied: packaging in /usr/local/lib/python3.7/dist-packages (from numexpr->pyLDAvis) (21.3)\n",
      "Requirement already satisfied: pyparsing!=3.0.5,>=2.0.2 in /usr/local/lib/python3.7/dist-packages (from packaging->numexpr->pyLDAvis) (3.0.9)\n",
      "Requirement already satisfied: threadpoolctl>=2.0.0 in /usr/local/lib/python3.7/dist-packages (from scikit-learn->pyLDAvis) (3.1.0)\n"
     ]
    }
   ],
   "source": [
    "!pip install konlpy #한국어 정보처리\n",
    "!pip install pyLDAvis #토픽모델링의 LDA 모델의 학습결과를 시각적으로 표현하는 라이브러리"
   ]
  },
  {
   "cell_type": "code",
   "execution_count": null,
   "metadata": {
    "id": "dfxvk4IFrMeM"
   },
   "outputs": [],
   "source": [
    "# Data Preprocessing Package\n",
    "import re                       #정규식\n",
    "import numpy as np\n",
    "import pandas as pd\n",
    "import os                      #디렉토리와 경로정보\n",
    "\n",
    "# NLP Package\n",
    "from konlpy.tag import * \n",
    "import gensim                    #토픽모델링을 하는 라이브러리\n",
    "import gensim.corpora as corpora #텍스트분석\n",
    "from gensim.models import CoherenceModel\n",
    "from collections import Counter\n",
    "\n",
    "# Visualization Package   #LDA시각화\n",
    "import pyLDAvis \n",
    "import pyLDAvis.gensim_models \n",
    "import matplotlib.pyplot as plt\n",
    "%matplotlib inline\n",
    "\n",
    "\n",
    "from pprint import pprint #pretty print\n",
    "import itertools #iterable 객체 처리\n",
    "import math\n",
    "\n",
    "import logging #로그처리\n",
    "logging.basicConfig(format='%(asctime)s : %(levelname)s : %(message)s', level=logging.ERROR)\n",
    " \n",
    "import warnings #경고 무시\n",
    "warnings.filterwarnings(\"ignore\",category=DeprecationWarning)"
   ]
  },
  {
   "cell_type": "markdown",
   "metadata": {
    "id": "-k1E6X-CrMeM"
   },
   "source": [
    "### 데이터 경로 및 저장 경로 설정"
   ]
  },
  {
   "cell_type": "code",
   "execution_count": null,
   "metadata": {
    "id": "5tIjfpCKrMeM"
   },
   "outputs": [],
   "source": [
    "# 기본 저장 주소\n",
    "ROOT_PATH =\"./dataset/\"\n",
    "# 데이터 저장 주소\n",
    "DATA_FOLDER_PATH = os.path.join(ROOT_PATH,\"1.Data/\")\n",
    "DATA_FILE_NAME = os.path.join(DATA_FOLDER_PATH,\"contents.xlsx\")                  # Portal News Crawler에서 저장한 데이터 \n",
    "DATA_STOP_WORD_FILE_NAME = os.path.join(DATA_FOLDER_PATH,\"Data_stop_word.txt\")   # 불용어 사전 \n",
    "\n",
    "# 모델 저장 주소\n",
    "MODEL_SAVE_FOLDER = os.path.join(ROOT_PATH,\"2.Model/\")\n",
    "LDA_MODEL_SAVE_NAME = os.path.join(MODEL_SAVE_FOLDER, \"Model_lda_topic_modeling.lda\")\n",
    "OPT_MODEL_SAVE_NAME = os.path.join(MODEL_SAVE_FOLDER, \"Model_opt_topic_modeling.lda\")\n",
    "\n",
    "# 결과물 저장 주소\n",
    "RESULT_FOLDER = os.path.join(ROOT_PATH,\"3.Result/\")\n",
    "RESULT_SAVE_LDAVIS = os.path.join(RESULT_FOLDER,\"Result_lda_vis.html\")\n",
    "RESULT_TOPIC_EXCEL = os.path.join(RESULT_FOLDER,\"Result_topic_excel.xlsx\")\n",
    "RESULT_corpus_EXCEL = os.path.join(RESULT_FOLDER,\"Result_corpus_excel.xlsx\")"
   ]
  },
  {
   "cell_type": "markdown",
   "metadata": {
    "id": "C7KnTf4CrMeM"
   },
   "source": [
    "### Data Loading"
   ]
  },
  {
   "cell_type": "markdown",
   "metadata": {
    "id": "YPAX902trMeM"
   },
   "source": [
    "- Portal_News_Crawler에서 수집한 데이터에서 Text 정보만 불러옴"
   ]
  },
  {
   "cell_type": "code",
   "execution_count": null,
   "metadata": {
    "colab": {
     "base_uri": "https://localhost:8080/"
    },
    "executionInfo": {
     "elapsed": 12,
     "status": "ok",
     "timestamp": 1653373026135,
     "user": {
      "displayName": "강민수",
      "userId": "02270149204876897928"
     },
     "user_tz": -540
    },
    "id": "SW3yhM3YrMeM",
    "outputId": "abf1bda7-73ed-4e0b-fc26-e0d066bcf5dd"
   },
   "outputs": [
    {
     "name": "stdout",
     "output_type": "stream",
     "text": [
      "Null값이 있는지 확인합니다. True\n",
      "\n",
      "중복 및, NULL값을 제거한 후, 다시 NULL값을 확인 합니다. False\n",
      "\n",
      "처리할 데이터수 :  922\n"
     ]
    }
   ],
   "source": [
    "# 데이터 불러오기 \n",
    "DF_raw = pd.read_excel(DATA_FILE_NAME,sheet_name='sheet1') # 엑셀파일의 sheet1시트의 텍스트 가져오기\n",
    "len(DF_raw)\n",
    "\n",
    "# 불러온 데이터의 값이 비어 있는지 확인\n",
    "print('Null값이 있는지 확인합니다.',DF_raw.isnull().values.any()) # Null 값이 존재하는지 확인 (False=정상)\n",
    "print('')\n",
    "DF_raw = DF_raw.dropna(how = 'any') # Null 값이 존재하는 행 제거\n",
    "DF_raw = DF_raw.drop_duplicates()   # 중복 데이터 프레임 제거 \n",
    "DF_raw = DF_raw.reset_index(drop=True) # 데이터 프레임 재색인\n",
    "print('중복 및, NULL값을 제거한 후, 다시 NULL값을 확인 합니다.', DF_raw.isnull().values.any()) # Null 값이 존재하는지 확인 (False=정상)\n",
    "print('')\n",
    "print(\"처리할 데이터수 : \",len(DF_raw))\n",
    "\n",
    "# raw데이터로부터 텍스트만 불러오기 \n",
    "DF_only_text = DF_raw['text'] #엑셀필드명"
   ]
  },
  {
   "cell_type": "code",
   "execution_count": null,
   "metadata": {
    "id": "udOMqtgrnFdV"
   },
   "outputs": [],
   "source": [
    "df_jl = pd.read_csv('jeongleungfood.csv')"
   ]
  },
  {
   "cell_type": "code",
   "execution_count": null,
   "metadata": {
    "colab": {
     "base_uri": "https://localhost:8080/"
    },
    "executionInfo": {
     "elapsed": 10,
     "status": "ok",
     "timestamp": 1653373026136,
     "user": {
      "displayName": "강민수",
      "userId": "02270149204876897928"
     },
     "user_tz": -540
    },
    "id": "wmDfaaL8n-0x",
    "outputId": "2d28d6b1-3afe-4e48-84e4-1b22328c2834"
   },
   "outputs": [
    {
     "data": {
      "text/plain": [
       "0      정릉시장 맛집모음 안녕하세요 혀나짱입니다 ◡̈ ! 정릉동으로 이사를 온지도 반년 정...\n",
       "1      울 몽이, 언니랑 오빠 밥 먹는 동안 얌전히 기다려줘서 고마워 #서울순대국 #정릉순...\n",
       "2      오늘은 정릉시장 안에 있는 유일한 무한리필 고기집 고기굼터를 소개시켜드리려고 해요!...\n",
       "3      양가네 손칼국수인데 안에 손님도 많더라구요~ 정릉시장 맛집 같아보였어요. 무엇보다 ...\n",
       "4      요즘 정릉시장 맛집으로 급부상하고 있다는 도이칠란드 박입니다. 자주 방문하는 곳이 ...\n",
       "                             ...                        \n",
       "118    배달파트너, 요기요, 배달대행, 퀵서비스, 카카오퀵, 게시판 준수 부탁드립니다. -...\n",
       "119    양파가 있어서 간장 소스도 따로 만들어먹을정도였어요 충분하게 줬으면 좋았을텐데 ! ...\n",
       "120    선릉역 10번출구에서 주욱 직진하다가 구두수선코너에서 좌회전을하면 선정릉매표소가 대...\n",
       "121    에서 골믁식당촬영하고있다고 구경간저희친언니가찍어서보냈네요 앞엔백종원뒤엔김성주ㅎㅎ 직...\n",
       "122    동네가 멀지 않아서 성신여대엔 자주 오가는 편인데 생소한 정릉시장에 위치한 칼국수맛...\n",
       "Name: content, Length: 123, dtype: object"
      ]
     },
     "execution_count": 127,
     "metadata": {},
     "output_type": "execute_result"
    }
   ],
   "source": [
    "df_jl.content"
   ]
  },
  {
   "cell_type": "markdown",
   "metadata": {
    "id": "PyvyY6-FrMeM"
   },
   "source": [
    "### 토크나이징, 불용어 처리, 말뭉치 생성, 빈도 계수"
   ]
  },
  {
   "cell_type": "code",
   "execution_count": null,
   "metadata": {
    "colab": {
     "base_uri": "https://localhost:8080/"
    },
    "executionInfo": {
     "elapsed": 551,
     "status": "ok",
     "timestamp": 1653373026679,
     "user": {
      "displayName": "강민수",
      "userId": "02270149204876897928"
     },
     "user_tz": -540
    },
    "id": "mWQl7FekrMeM",
    "outputId": "5673b697-0e40-4c0f-c89e-fc82dfa553c1"
   },
   "outputs": [
    {
     "name": "stdout",
     "output_type": "stream",
     "text": [
      "전체 워드의 개수 : 1549\n",
      "     text  count\n",
      "0      식당     40\n",
      "1      위치     25\n",
      "2      오늘     19\n",
      "3      골목     18\n",
      "4      추천     17\n",
      "5      대국     17\n",
      "6     아리랑     15\n",
      "7      소개     14\n",
      "8      메뉴     12\n",
      "9      근처     12\n",
      "10     기차     12\n",
      "11  도이칠란드     11\n",
      "12     방문     11\n",
      "13     사람     11\n",
      "14     정말     11\n",
      "15     동네     11\n",
      "16    아구찜     11\n",
      "17    성북구     10\n",
      "18     시간     10\n",
      "19     바로      9\n"
     ]
    }
   ],
   "source": [
    "tokenizer = Okt() # 토큰나이저 지정\n",
    "stopword_vocab =['정릉','시장','맛집'] # 불용어 파일 불러오기\n",
    "sep = \"\\n\" # 불용어 처리 인자\n",
    "\n",
    "def build_vocab(data_frame ,stopword_vocab, separate):\n",
    "    \n",
    "    # 불용어 데이터를 가져와 리스트로 변환합니다.\n",
    "    # with open(stopword_vocab, encoding = 'utf-8') as f:\n",
    "    #    temp1 = []\n",
    "    #    for i in f:\n",
    "    #        temp1.append(i)\n",
    "    #        \n",
    "    # globals()['stopword_vocab'] = []\n",
    "    \n",
    "    # 불용어 데이터는 전역변수 stopword_vocab 선언합니다. \n",
    "    # 구분자에 따라 stopword_vocab에 추가하여 불용어 사전을 구축합니다.\n",
    "    # for j in range(len(temp1)):\n",
    "    #   temp2 = temp1[j].rstrip(separate)\n",
    "    #    globals()['stopword_vocab'].append(temp2)\n",
    "    \n",
    "    #okt token에서 명사만 출력합니다. 단어의 길이가 1 초과인 단어만 출력합니다. \n",
    "    globals()['list_sent2words'] =[]\n",
    "    for i in range(len(data_frame)) :\n",
    "        num_list=[]\n",
    "        temp = tokenizer.nouns(data_frame[i])\n",
    "        for j in range(len(temp)):\n",
    "\n",
    "            if len(temp[j]) > 1:\n",
    "                num_list.append(temp[j])\n",
    "        globals()['list_sent2words'].append(num_list)\n",
    "    \n",
    "    return [[word for word in doc if word not in globals()['stopword_vocab']] for doc in globals()['list_sent2words']]\n",
    "\n",
    "result_data =build_vocab(df_jl.content, stopword_vocab, sep)\n",
    "\n",
    "\n",
    "# 전체 에 대한 워드 카운트 계수 확인\n",
    "\n",
    "def word_corpus(result_data):\n",
    "    #전체 단어의 갯수 파악\n",
    "    words = list(itertools.chain(*result_data))\n",
    "    print('전체 워드의 개수 : {}'.format(len(words)))\n",
    "\n",
    "    #단어의 빈도수를 확인 후 추가할 불용어 확인 작업\n",
    "    vocab = Counter(words)\n",
    "    vocab_size = len(words)\n",
    "    vocab = vocab.most_common(vocab_size) # 등장 빈도수가 높은 상위 n개의 단어만 저장 vocab\n",
    "    return vocab\n",
    "\n",
    "vocab=word_corpus(result_data)\n",
    "\n",
    "# 전체 워드의 빈도 계수 \n",
    "df_corpus=pd.DataFrame(columns=[\"text\",\"count\"])\n",
    "tmp_list=[]\n",
    "tmp_list1=[]\n",
    "for word, num in vocab:\n",
    "    tmp_list.append(word)\n",
    "    tmp_list1.append(num)\n",
    "df_corpus['text']=tmp_list\n",
    "df_corpus['count']=tmp_list1\n",
    "#상위 20개의 워드 카운드 계수만 출력\n",
    "a=df_corpus.head(1000)\n",
    "print(df_corpus.head(20))\n",
    "\n",
    "#빈도분석한 결과를 별도의 파일에 저장함\n",
    "a.to_excel(RESULT_corpus_EXCEL ,sheet_name = \"sheet1\")\n",
    "\n",
    "\n",
    "# 토픽 모델링 딕셔너리 생성\n",
    "id2word = corpora.Dictionary(result_data)\n",
    " \n",
    "# 토픽모델링에 사용할 말뭉치 생성\n",
    "texts = result_data\n",
    " \n",
    "# 용어-문서 빈도\n",
    "corpus = [id2word.doc2bow(text) for text in texts]\n"
   ]
  },
  {
   "cell_type": "markdown",
   "metadata": {
    "id": "0UbMqkxjrMeN"
   },
   "source": [
    "### 토픽 평가"
   ]
  },
  {
   "cell_type": "code",
   "execution_count": null,
   "metadata": {
    "colab": {
     "base_uri": "https://localhost:8080/"
    },
    "executionInfo": {
     "elapsed": 42807,
     "status": "ok",
     "timestamp": 1653373069480,
     "user": {
      "displayName": "강민수",
      "userId": "02270149204876897928"
     },
     "user_tz": -540
    },
    "id": "fC6qephQrMeN",
    "outputId": "23612903-7474-465b-b52b-34d26b232427"
   },
   "outputs": [
    {
     "name": "stdout",
     "output_type": "stream",
     "text": [
      "NUM_TOPICS perplexity coherence\n",
      "T 1 -6.7471737119749795 0.5441701248002816\n",
      "T 2 -6.843423142771882 0.5168459369793732\n",
      "T 3 -6.911927599741268 0.4941233341695541\n",
      "T 4 -7.033748660830623 0.45709524818497005\n",
      "T 5 -7.040149048307467 0.44571392697785994\n",
      "T 6 -7.120796976684369 0.4431963187016972\n",
      "T 7 -7.194460694985362 0.47112128074449444\n",
      "T 8 -7.228376637377071 0.4899589143759142\n",
      "T 9 -7.2540807072734586 0.46432691965511036\n",
      "T 10 -7.281778041434488 0.43173687794084775\n",
      "T 11 -7.326039783141935 0.44608469526680494\n",
      "T 12 -7.259217751303206 0.432835787205955\n",
      "T 13 -7.284566861110168 0.44144329997231585\n",
      "T 14 -7.368507733916067 0.4498925849507968\n",
      "T 15 -7.364809270248327 0.44651408814255233\n",
      "T 16 -7.337533059544991 0.4031555118444215\n",
      "T 17 -7.342988941998848 0.41542244011512836\n",
      "T 18 -7.362983620882496 0.3832086798889458\n",
      "T 19 -7.396585314677099 0.39805190765604825\n",
      "T 20 -7.365821878782313 0.39265235233185936\n",
      "T 21 -7.432550455655799 0.3893480442826607\n",
      "T 22 -7.393764201520411 0.3564643306293094\n",
      "T 23 -7.433160556178465 0.3800134586566063\n",
      "T 24 -7.469014361414161 0.38747501414017327\n",
      "T 25 -7.420834888597701 0.3682007865585208\n",
      "T 26 -7.391422375353634 0.3505932025739518\n",
      "T 27 -7.477172745667095 0.37342052001260906\n",
      "T 28 -7.432916404856183 0.35200866825774646\n",
      "T 29 -7.474270882261731 0.39375702368060944\n"
     ]
    }
   ],
   "source": [
    "# Perplexity와 Coherence Score 을 판단\n",
    "#print('토픽 기본 모델링을 실시 합니다. 해당 모델은 \"lda_model\" 변수로 입력됩니다.')\n",
    "#print(' ')\n",
    "\n",
    "#NUM_TOPICS = int(input('토픽의 개수를 입력해 주세요. '))\n",
    "#TOPICS_W_NUM = int(input('출력할 토픽별 단어의 개수를 입력해 주세요 '))\n",
    "#save_lda_model= int(input(\"선택한 토픽 모델을 저장하시겠습니까? \\n0 저장  \\n1 미저장  \"))\n",
    "\n",
    "TOPICS_W_NUM =20\n",
    "save_lda_model=0\n",
    "RANDOM_STATE = 100\n",
    "UPDATE_EVERY = 1\n",
    "CHUNKSIZE = 100\n",
    "PASSES = 10\n",
    "ALPHA = 'auto'\n",
    "PER_WORD_TOPICS = True\n",
    "print('NUM_TOPICS', 'perplexity', 'coherence')\n",
    "for i in range(1,30):\n",
    "  NUM_TOPICS=i\n",
    " \n",
    "  #해당 셀은 토픽모델링(LDA)에 대해 모델을 정의하는 셀입니다.\n",
    "  lda_model = gensim.models.ldamodel.LdaModel(corpus=corpus, id2word=id2word, \n",
    "                                              num_topics=NUM_TOPICS, random_state=RANDOM_STATE, \n",
    "                                              update_every=UPDATE_EVERY, chunksize=CHUNKSIZE,\n",
    "                                              passes=PASSES, alpha=ALPHA, per_word_topics=PER_WORD_TOPICS)\n",
    "\n",
    "  # 토픽 출력\n",
    " #  pprint(lda_model.print_topics(num_words=TOPICS_W_NUM))\n",
    "  doc_lda = lda_model[corpus]\n",
    "\n",
    "  # 모델 저장 \n",
    "  if save_lda_model == 0:\n",
    "      lda_model.save(LDA_MODEL_SAVE_NAME)\n",
    "  # 0번 토픽,- 중요단어들이 가중치 순으로 나옴(20개)\n",
    "  \"\"\"\n",
    "  해당 셀은 설계한 모델을 계산하는 셀입니다.\n",
    "  측정은 Perplexity와 Coherence Score입니다.\n",
    "  \"\"\"\n",
    "  #print('\\nNUM_TOPICS',NUM_TOPICS)\n",
    "  # Perplexity \n",
    "  #print('Perplexity: ', lda_model.log_perplexity(corpus)) # a measure of how good the model is. lower the better.\n",
    "  \n",
    "  # Coherence Score\n",
    "  coherence_model_lda = CoherenceModel(model=lda_model, texts=result_data, dictionary=id2word, coherence='c_v')\n",
    "  coherence_lda = coherence_model_lda.get_coherence()\n",
    "  #print('Coherence Score: ', coherence_lda)\n",
    " # print('NUM_TOPICS',NUM_TOPICS,'Perplexity: ', lda_model.log_perplexity(corpus),'Coherence: ', coherence_lda)\n",
    "\n",
    "  print('T',NUM_TOPICS, lda_model.log_perplexity(corpus), coherence_lda)\n"
   ]
  },
  {
   "cell_type": "code",
   "execution_count": null,
   "metadata": {
    "colab": {
     "base_uri": "https://localhost:8080/"
    },
    "executionInfo": {
     "elapsed": 10428,
     "status": "ok",
     "timestamp": 1653373079888,
     "user": {
      "displayName": "강민수",
      "userId": "02270149204876897928"
     },
     "user_tz": -540
    },
    "id": "eMRR5AeR1f4_",
    "outputId": "89a61a31-ae1f-45ce-d0e5-f2f00f33fdfe"
   },
   "outputs": [
    {
     "name": "stdout",
     "output_type": "stream",
     "text": [
      "토픽 기본 모델링을 실시 합니다. 해당 모델은 \"lda_model\" 변수로 입력됩니다.\n",
      " \n",
      "토픽의 개수를 입력해 주세요. 6\n",
      "출력할 토픽별 단어의 개수를 입력해 주세요 10\n",
      "선택한 토픽 모델을 저장하시겠습니까? \n",
      "0 저장  \n",
      "1 미저장  0\n",
      "[(0,\n",
      "  '0.028*\"위치\" + 0.020*\"사진\" + 0.017*\"식당\" + 0.016*\"층수\" + 0.016*\"건물\" + 0.014*\"오늘\" '\n",
      "  '+ 0.012*\"입구\" + 0.011*\"정도\" + 0.011*\"메뉴\" + 0.011*\"타고\"'),\n",
      " (1,\n",
      "  '0.030*\"식당\" + 0.023*\"생각\" + 0.020*\"국민대\" + 0.015*\"청년\" + 0.014*\"막걸리\" + '\n",
      "  '0.014*\"사람\" + 0.013*\"산보\" + 0.013*\"아주\" + 0.012*\"동네\" + 0.012*\"국문\"'),\n",
      " (2,\n",
      "  '0.024*\"느낌\" + 0.023*\"시간\" + 0.017*\"골목길\" + 0.017*\"영업\" + 0.017*\"입구\" + '\n",
      "  '0.017*\"저녁\" + 0.016*\"근처\" + 0.015*\"정릉천\" + 0.014*\"요즘\" + 0.013*\"먹거리\"'),\n",
      " (3,\n",
      "  '0.027*\"메뉴\" + 0.026*\"출구\" + 0.023*\"대국\" + 0.019*\"북한\" + 0.019*\"도보\" + 0.018*\"식당\" '\n",
      "  '+ 0.017*\"민속\" + 0.016*\"우이신설선\" + 0.016*\"가게\" + 0.015*\"기차\"'),\n",
      " (4,\n",
      "  '0.035*\"동네\" + 0.021*\"배달\" + 0.021*\"호호\" + 0.021*\"카레\" + 0.018*\"볶음밥\" + '\n",
      "  '0.016*\"소개\" + 0.016*\"가지\" + 0.015*\"구경\" + 0.015*\"저녁\" + 0.014*\"위치\"'),\n",
      " (5,\n",
      "  '0.048*\"식당\" + 0.035*\"골목\" + 0.031*\"아리랑\" + 0.029*\"백종원\" + 0.019*\"사장\" + '\n",
      "  '0.018*\"모두\" + 0.017*\"짜장면\" + 0.017*\"보리밥\" + 0.014*\"파스타\" + 0.012*\"마몽함박\"')]\n"
     ]
    }
   ],
   "source": [
    "print('토픽 기본 모델링을 실시 합니다. 해당 모델은 \"lda_model\" 변수로 입력됩니다.')\n",
    "print(' ')\n",
    "\n",
    "NUM_TOPICS = int(input('토픽의 개수를 입력해 주세요. '))\n",
    "TOPICS_W_NUM = int(input('출력할 토픽별 단어의 개수를 입력해 주세요 '))\n",
    "save_lda_model= int(input(\"선택한 토픽 모델을 저장하시겠습니까? \\n0 저장  \\n1 미저장  \"))\n",
    "\n",
    "RANDOM_STATE = 100\n",
    "UPDATE_EVERY = 1\n",
    "CHUNKSIZE = 100\n",
    "PASSES = 10\n",
    "ALPHA = 'auto'\n",
    "PER_WORD_TOPICS = True\n",
    "\n",
    "#해당 셀은 토픽모델링(LDA)에 대해 모델을 정의하는 셀입니다.\n",
    "lda_model = gensim.models.ldamodel.LdaModel(corpus=corpus, id2word=id2word, \n",
    "                                            num_topics=NUM_TOPICS, random_state=RANDOM_STATE, \n",
    "                                            update_every=UPDATE_EVERY, chunksize=CHUNKSIZE,\n",
    "                                            passes=PASSES, alpha=ALPHA, per_word_topics=PER_WORD_TOPICS)\n",
    "\n",
    "# 토픽 출력\n",
    "pprint(lda_model.print_topics(num_words=TOPICS_W_NUM))\n",
    "doc_lda = lda_model[corpus]\n",
    "\n",
    "# 모델 저장 \n",
    "if save_lda_model == 0:\n",
    "    lda_model.save(LDA_MODEL_SAVE_NAME)\n",
    "# 0번 토픽,- 중요단어들이 가중치 순으로 나옴(20개)"
   ]
  },
  {
   "cell_type": "code",
   "execution_count": null,
   "metadata": {
    "colab": {
     "base_uri": "https://localhost:8080/"
    },
    "executionInfo": {
     "elapsed": 788,
     "status": "ok",
     "timestamp": 1653373080660,
     "user": {
      "displayName": "강민수",
      "userId": "02270149204876897928"
     },
     "user_tz": -540
    },
    "id": "TzdV0x0DzEPf",
    "outputId": "02ba4e52-d9f8-4d32-9ea5-c277f307c55c"
   },
   "outputs": [
    {
     "name": "stdout",
     "output_type": "stream",
     "text": [
      "\n",
      "Perplexity:  -7.120796976684369\n",
      "\n",
      "Coherence Score:  0.4431963187016972\n"
     ]
    }
   ],
   "source": [
    "#토픽평가\n",
    "\"\"\"\n",
    "해당 셀은 설계한 모델을 계산하는 셀입니다.\n",
    "측정은 Perplexity와 Coherence Score입니다.\n",
    "\"\"\"\n",
    "\n",
    "# Perplexity \n",
    "print('\\nPerplexity: ', lda_model.log_perplexity(corpus)) # a measure of how good the model is. lower the better.\n",
    " \n",
    "# Coherence Score\n",
    "coherence_model_lda = CoherenceModel(model=lda_model, texts=result_data, dictionary=id2word, coherence='c_v')\n",
    "coherence_lda = coherence_model_lda.get_coherence()\n",
    "print('\\nCoherence Score: ', coherence_lda)\n",
    "# Perplexity는 작을 수록 Coherence Score는 높을 수록 좋다.모델 1개의 값\n",
    "# 토픽의 개수를 다르게 하여 판단비교해보세요. \n",
    "# 젠심 코히러런스로 검색해봐서 coherence='c_v'값을 바꿔가면서 해보세요"
   ]
  },
  {
   "cell_type": "markdown",
   "metadata": {
    "id": "yj-0E5o1wQ3s"
   },
   "source": [
    "#### LSA 모델"
   ]
  },
  {
   "cell_type": "code",
   "execution_count": null,
   "metadata": {
    "id": "JfYE-xX4wLWr"
   },
   "outputs": [],
   "source": [
    "from gensim import models"
   ]
  },
  {
   "cell_type": "code",
   "execution_count": null,
   "metadata": {
    "id": "vBuUU7ShxOCr"
   },
   "outputs": [],
   "source": [
    "NUM_TOPIC_WORDS = 10"
   ]
  },
  {
   "cell_type": "code",
   "execution_count": null,
   "metadata": {
    "id": "mWGJRj5hwL22"
   },
   "outputs": [],
   "source": [
    "# ★ 모델링 후 각 토픽별로 중요한 단어들을 표시\n",
    "def print_topic_words(model):\n",
    "    \n",
    "    for topic_id in range(model.num_topics):\n",
    "        topic_word_probs = model.show_topic(topic_id, NUM_TOPIC_WORDS)\n",
    "        print(\"Topic ID: {}\".format(topic_id))\n",
    "\n",
    "        for topic_word, prob in topic_word_probs:\n",
    "            print(\"\\t{}\\t{}\".format(topic_word, prob))\n",
    "        print(\"\\n\")"
   ]
  },
  {
   "cell_type": "code",
   "execution_count": null,
   "metadata": {
    "id": "4MW2cf-BwNK1"
   },
   "outputs": [],
   "source": [
    "model_LSA = models.lsimodel.LsiModel(corpus, num_topics=NUM_TOPICS, id2word=corpora.Dictionary(result_data))"
   ]
  },
  {
   "cell_type": "code",
   "execution_count": null,
   "metadata": {
    "colab": {
     "base_uri": "https://localhost:8080/"
    },
    "executionInfo": {
     "elapsed": 4,
     "status": "ok",
     "timestamp": 1653373991401,
     "user": {
      "displayName": "강민수",
      "userId": "02270149204876897928"
     },
     "user_tz": -540
    },
    "id": "anffG5CGwNpg",
    "outputId": "1ffb685f-23ea-4489-9437-9b38a676c12a"
   },
   "outputs": [
    {
     "name": "stdout",
     "output_type": "stream",
     "text": [
      "Topic ID: 0\n",
      "\t식당\t0.5636228127844031\n",
      "\t대국\t0.3805810669630907\n",
      "\t골목\t0.2811490824442053\n",
      "\t기차\t0.25310662087933716\n",
      "\t아리랑\t0.24663986012729774\n",
      "\t위치\t0.21331368507305978\n",
      "\t오늘\t0.1645193376404964\n",
      "\t백종원\t0.13638333193977895\n",
      "\t근처\t0.11403167508441524\n",
      "\t장수식\t0.11362823897076055\n",
      "\n",
      "\n",
      "Topic ID: 1\n",
      "\t대국\t-0.6937313177843054\n",
      "\t기차\t-0.4190375423651655\n",
      "\t식당\t0.33192304972439357\n",
      "\t골목\t0.2343850882823268\n",
      "\t아리랑\t0.20832058428683056\n",
      "\t백종원\t0.11442152536760024\n",
      "\t장수식\t0.09248683558915463\n",
      "\t외관\t-0.0859377085405263\n",
      "\t청국장\t0.07859578654290425\n",
      "\t오늘\t-0.07054573754988012\n",
      "\n",
      "\n",
      "Topic ID: 2\n",
      "\t위치\t-0.38165859356475873\n",
      "\t아구찜\t-0.30323536206608126\n",
      "\t추천\t-0.2305239729253408\n",
      "\t초밥\t-0.20838389085227438\n",
      "\t식당\t0.20248626212006438\n",
      "\t오늘\t-0.17418038121345847\n",
      "\t볶음밥\t-0.15587315726535955\n",
      "\t파스타\t-0.15578222499399028\n",
      "\t정말\t-0.15276434701960764\n",
      "\t아리랑\t0.14732963277894237\n",
      "\n",
      "\n",
      "Topic ID: 3\n",
      "\t초밥\t-0.8213852180616641\n",
      "\t강동\t-0.2451196805630071\n",
      "\t근처\t-0.17661794667649958\n",
      "\t추천\t0.13359263250648717\n",
      "\t아마\t-0.1280530365752176\n",
      "\t먹음\t-0.12255984028150355\n",
      "\t후훗\t-0.12255984028150355\n",
      "\t비주\t-0.12255984028150355\n",
      "\t세트\t-0.1211042535981576\n",
      "\t사진\t-0.11696490234072186\n",
      "\n",
      "\n",
      "Topic ID: 4\n",
      "\t추천\t-0.4323721994498716\n",
      "\t위치\t0.39496065777043793\n",
      "\t파스타\t-0.25030548037088723\n",
      "\t오늘\t0.24755561810840948\n",
      "\t아구찜\t-0.24220856126961346\n",
      "\t정말\t-0.1825317574452824\n",
      "\t식당\t-0.17630687503187864\n",
      "\t볶음밥\t-0.1686078549662047\n",
      "\t소개\t0.15963339469284568\n",
      "\t사람\t0.12480838704911568\n",
      "\n",
      "\n",
      "Topic ID: 5\n",
      "\t아구찜\t0.4638762481044352\n",
      "\t동네\t-0.25250475354937785\n",
      "\t방문\t-0.2133836513809797\n",
      "\t아리랑\t0.2017085489491622\n",
      "\t고기\t-0.19119310354753516\n",
      "\t볶음밥\t0.1828853741236621\n",
      "\t도이칠란드\t-0.14287582094501133\n",
      "\t근처\t-0.1422394022710733\n",
      "\t골목\t0.13638571036531794\n",
      "\t북한\t-0.1363816140847618\n",
      "\n",
      "\n"
     ]
    }
   ],
   "source": [
    "print_topic_words(model_LSA)                  # 전체 토픽별 주요 어휘 출력 "
   ]
  },
  {
   "cell_type": "markdown",
   "metadata": {
    "id": "mhkZw3WbrMeN"
   },
   "source": [
    "### LDA 토픽별 키워드 조회"
   ]
  },
  {
   "cell_type": "code",
   "execution_count": null,
   "metadata": {
    "colab": {
     "base_uri": "https://localhost:8080/"
    },
    "executionInfo": {
     "elapsed": 8,
     "status": "ok",
     "timestamp": 1653373080661,
     "user": {
      "displayName": "강민수",
      "userId": "02270149204876897928"
     },
     "user_tz": -540
    },
    "id": "Re6_S_PQrMeN",
    "outputId": "fcece06a-1943-444c-b5f9-d5ca3032db73"
   },
   "outputs": [
    {
     "name": "stdout",
     "output_type": "stream",
     "text": [
      "Topic ID: 0\n",
      "\t위치\t0.02848828211426735\n",
      "\t사진\t0.019662857055664062\n",
      "\t식당\t0.016969211399555206\n",
      "\t층수\t0.01605936326086521\n",
      "\t건물\t0.016059160232543945\n",
      "\t오늘\t0.013784802518785\n",
      "\t입구\t0.011646302416920662\n",
      "\t정도\t0.010929428040981293\n",
      "\t메뉴\t0.010708834044635296\n",
      "\t타고\t0.010703622363507748\n",
      "\n",
      "\n",
      "Topic ID: 1\n",
      "\t식당\t0.030197495594620705\n",
      "\t생각\t0.023427467793226242\n",
      "\t국민대\t0.01983819715678692\n",
      "\t청년\t0.015393372625112534\n",
      "\t막걸리\t0.014332178048789501\n",
      "\t사람\t0.013568541966378689\n",
      "\t산보\t0.012859427370131016\n",
      "\t아주\t0.01284735556691885\n",
      "\t동네\t0.011827626265585423\n",
      "\t국문\t0.011755856685340405\n",
      "\n",
      "\n",
      "Topic ID: 2\n",
      "\t느낌\t0.023971889168024063\n",
      "\t시간\t0.023255683481693268\n",
      "\t골목길\t0.016552384942770004\n",
      "\t영업\t0.01654745638370514\n",
      "\t입구\t0.016545835882425308\n",
      "\t저녁\t0.016530338674783707\n",
      "\t근처\t0.01646403968334198\n",
      "\t정릉천\t0.01483615767210722\n",
      "\t요즘\t0.013647637329995632\n",
      "\t먹거리\t0.013128062710165977\n",
      "\n",
      "\n",
      "Topic ID: 3\n",
      "\t메뉴\t0.026733482256531715\n",
      "\t출구\t0.026239069178700447\n",
      "\t대국\t0.023174511268734932\n",
      "\t북한\t0.018765628337860107\n",
      "\t도보\t0.018728261813521385\n",
      "\t식당\t0.01780254952609539\n",
      "\t민속\t0.017400844022631645\n",
      "\t우이신설선\t0.01583845540881157\n",
      "\t가게\t0.015611366368830204\n",
      "\t기차\t0.014924811199307442\n",
      "\n",
      "\n",
      "Topic ID: 4\n",
      "\t동네\t0.035242483019828796\n",
      "\t배달\t0.021412312984466553\n",
      "\t호호\t0.020709309726953506\n",
      "\t카레\t0.020709309726953506\n",
      "\t볶음밥\t0.01819918118417263\n",
      "\t소개\t0.01639971137046814\n",
      "\t가지\t0.01606355793774128\n",
      "\t구경\t0.014996573328971863\n",
      "\t저녁\t0.014718295074999332\n",
      "\t위치\t0.01394092570990324\n",
      "\n",
      "\n",
      "Topic ID: 5\n",
      "\t식당\t0.04775138944387436\n",
      "\t골목\t0.03466831520199776\n",
      "\t아리랑\t0.030860770493745804\n",
      "\t백종원\t0.028888966888189316\n",
      "\t사장\t0.01894877664744854\n",
      "\t모두\t0.017727695405483246\n",
      "\t짜장면\t0.01659274660050869\n",
      "\t보리밥\t0.01656627096235752\n",
      "\t파스타\t0.013829137198626995\n",
      "\t마몽함박\t0.012256860733032227\n",
      "\n",
      "\n"
     ]
    }
   ],
   "source": [
    "for topic_id in range(NUM_TOPICS):\n",
    "    topic_word_probs = lda_model.show_topic(topic_id, TOPICS_W_NUM)\n",
    "    print(\"Topic ID: {}\".format(topic_id))\n",
    "\n",
    "    for topic_word, prob in topic_word_probs:\n",
    "        print(\"\\t{}\\t{}\".format(topic_word, prob))\n",
    "    print(\"\\n\")"
   ]
  },
  {
   "cell_type": "markdown",
   "metadata": {
    "id": "eR51TvKtrMeN"
   },
   "source": [
    "### 시각화"
   ]
  },
  {
   "cell_type": "code",
   "execution_count": null,
   "metadata": {
    "colab": {
     "base_uri": "https://localhost:8080/",
     "height": 897
    },
    "executionInfo": {
     "elapsed": 1301,
     "status": "ok",
     "timestamp": 1653373081956,
     "user": {
      "displayName": "강민수",
      "userId": "02270149204876897928"
     },
     "user_tz": -540
    },
    "id": "PukyY0gHrMeN",
    "outputId": "1e5b03c5-97d4-421f-d03a-4cd1877b8853"
   },
   "outputs": [
    {
     "name": "stderr",
     "output_type": "stream",
     "text": [
      "/usr/local/lib/python3.7/dist-packages/pyLDAvis/_prepare.py:247: FutureWarning: In a future version of pandas all arguments of DataFrame.drop except for the argument 'labels' will be keyword-only\n",
      "  by='saliency', ascending=False).head(R).drop('saliency', 1)\n"
     ]
    },
    {
     "data": {
      "text/html": [
       "\n",
       "<link rel=\"stylesheet\" type=\"text/css\" href=\"https://cdn.jsdelivr.net/gh/bmabey/pyLDAvis@3.3.1/pyLDAvis/js/ldavis.v1.0.0.css\">\n",
       "\n",
       "\n",
       "<div id=\"ldavis_el731396864586443047882400958\"></div>\n",
       "<script type=\"text/javascript\">\n",
       "\n",
       "var ldavis_el731396864586443047882400958_data = {\"mdsDat\": {\"x\": [0.011264389741643677, 0.04146958569633408, 0.010812384058236037, 0.051320209680442326, -0.22407956190379838, 0.10921299272714227], \"y\": [0.11743924135340986, -0.1470516185984372, 0.03626508658584864, -0.09160264861005218, 0.0005802520738295195, 0.08436968719540142], \"topics\": [1, 2, 3, 4, 5, 6], \"cluster\": [1, 1, 1, 1, 1, 1], \"Freq\": [14.150179465386836, 21.49217536572465, 13.040938130603424, 14.194203099135802, 14.759832869686, 22.36267106946329]}, \"tinfo\": {\"Term\": [\"\\ub3d9\\ub124\", \"\\uc544\\ub9ac\\ub791\", \"\\ubc31\\uc885\\uc6d0\", \"\\uace8\\ubaa9\", \"\\uc2dd\\ub2f9\", \"\\uba54\\ub274\", \"\\ucd9c\\uad6c\", \"\\ub290\\ub08c\", \"\\uc0dd\\uac01\", \"\\ub300\\uad6d\", \"\\ubc30\\ub2ec\", \"\\uc2dc\\uac04\", \"\\ud638\\ud638\", \"\\uce74\\ub808\", \"\\ubd81\\ud55c\", \"\\uc0ac\\uc7a5\", \"\\uc800\\ub141\", \"\\uad6d\\ubbfc\\ub300\", \"\\ub3c4\\ubcf4\", \"\\ubaa8\\ub450\", \"\\uc0ac\\uc9c4\", \"\\uc785\\uad6c\", \"\\ubcf6\\uc74c\\ubc25\", \"\\uc9dc\\uc7a5\\uba74\", \"\\ubcf4\\ub9ac\\ubc25\", \"\\ubbfc\\uc18d\", \"\\uace8\\ubaa9\\uae38\", \"\\uc601\\uc5c5\", \"\\uac00\\uc9c0\", \"\\uce35\\uc218\", \"\\uce35\\uc218\", \"\\uc0ac\\uc9c4\", \"\\ud0c0\\uace0\", \"\\uc774\\uc0ac\", \"\\ucd08\\ubc25\", \"\\ubb34\\ub8cc\", \"\\ub3d9\\uc548\", \"\\ud568\\ubc15\", \"\\uc77c\\ub2e8\", \"\\uace0\\ub824\", \"\\ub4f1\\ub4f1\", \"\\ubb38\\uc758\", \"\\uc0c1\\ud0dc\", \"\\uc2dc\\uae30\", \"\\uc778\\ud14c\\ub9ac\\uc5b4\", \"\\uc784\\ub300\\ub8cc\", \"\\uc9c0\\ubc88\", \"\\uc9c0\\ud558\", \"\\uccad\\uc218\", \"\\ud504\\ub77c\\uc790\", \"\\ud574\\ub2f9\", \"\\ub044\\uc755\", \"\\ub9e4\\uc9c4\", \"\\ubc18\\uc8fd\", \"\\ube44\\ub85d\", \"\\uc18c\\ub7c9\", \"\\uc21c\\uc774\", \"\\ud22c\\uc5b4\", \"\\ud310\\ub9e4\", \"\\uac83\\uc784\", \"\\uc804\\ubb38\", \"\\uac74\\ubb3c\", \"\\uc624\\ud508\", \"\\uc704\\uce58\", \"\\ubc29\\uc601\", \"\\uc785\\uad6c\", \"\\uc624\\ub298\", \"\\uc815\\ub3c4\", \"\\uc2dd\\ub2f9\", \"\\uba54\\ub274\", \"\\uadfc\\ucc98\", \"\\uc0dd\\uac01\", \"\\ub9c9\\uac78\\ub9ac\", \"\\uc0b0\\ubcf4\", \"\\uad6d\\ubb38\", \"\\ud604\\uc7ac\", \"\\uc6cc\\ub099\", \"\\uc544\\uc8fc\", \"\\uad6d\\ubbfc\\ub300\", \"\\uc804\\uccb4\", \"\\uc804\\ud600\", \"\\uac00\\uc871\", \"\\ub9e5\\uc8fc\", \"\\uad00\\ub9ac\", \"\\ubaa8\\ub4e0\", \"\\ubcf4\\uc99d\\uae08\", \"\\uc218\\uc555\", \"\\uc625\\ud0d1\\ubc29\", \"\\uc6d4\\uc138\", \"\\ucf78\\ucf78\", \"\\ud3ec\\ud568\", \"\\ub3c4\\uc0c9\", \"\\ub808\\uc77c\", \"\\ub9e4\\ubb3c\", \"\\ubcbd\\uccb4\", \"\\ubd88\\uac00\", \"\\uc0ac\\ubb34\\uc2e4\", \"\\uc2a4\\ud29c\\ub514\\uc624\", \"\\uc2dc\\uacf5\", \"\\uc5c5\\uc885\", \"\\uc810\\ub4f1\", \"\\uc0ac\\ub78c\", \"\\uc18c\\uc2a4\", \"\\ud55c\\uc794\", \"\\uccad\\ub144\", \"\\uc2dd\\ub2f9\", \"\\ubb34\\ud55c\\ub9ac\\ud544\", \"\\uc678\\uc2dd\", \"\\ubd81\\ud55c\", \"\\ub3d9\\ub124\", \"\\uc624\\ub298\", \"\\uc74c\\uc2dd\", \"\\uc815\\ub3c4\", \"\\ubc30\\ub2ec\", \"\\uc704\\uce58\", \"\\ub290\\ub08c\", \"\\uace8\\ubaa9\\uae38\", \"\\uc601\\uc5c5\", \"\\uba39\\uac70\\ub9ac\", \"\\uc2dc\\uac04\", \"\\uc57c\\uacbd\", \"\\uad70\\ub77d\", \"\\ub9c8\\uc74c\", \"\\ubc9a\\uaf43\", \"\\ucd9c\\ud1f4\\uadfc\", \"\\uac70\\ub9ac\", \"\\uace0\\uc591\\uc774\", \"\\uc9c0\\ud558\\ucca0\", \"\\uc815\\ub989\\ucc9c\", \"\\uc8fc\\ubcc0\", \"\\ud734\\ubb34\", \"\\ucb48\\uafb8\\ubbf8\", \"\\uc548\\ucabd\", \"\\ub9c8\\uc744\", \"\\uacf5\\uc815\", \"\\uc815\\ub9ac\", \"\\ub355\\ubd84\", \"\\ub3c8\\uae4c\\uc2a4\", \"\\uc624\\uc804\", \"\\ucb48\\uc6b1\", \"\\uad6d\\ubc25\", \"\\uc624\\ud6c4\", \"\\ub54c\\ubb38\", \"\\uc785\\uad6c\", \"\\uc8fc\\ub9d0\", \"\\uc800\\ub141\", \"\\uadfc\\ucc98\", \"\\uc694\\uc998\", \"\\uc544\\uad6c\\ucc1c\", \"\\uac04\\uc7a5\", \"\\uc870\\uae08\", \"\\uc22f\\ubd88\", \"\\uace8\\ubaa9\", \"\\ub300\\uad6d\", \"\\ub3c4\\ubcf4\", \"\\ubbfc\\uc18d\", \"\\uc9c1\\uc9c4\", \"\\uc678\\uad00\", \"\\ub9ac\\ubdf0\", \"\\uadf8\\ub987\", \"\\uae30\\ucc28\", \"\\uac00\\uac8c\", \"\\uc6b0\\uc774\\uc2e0\\uc124\\uc120\", \"\\ub0b4\\uc77c\", \"\\ubd88\\ub9ac\", \"\\uc774\\uc11c\", \"\\ucd08\\ub4f1\\ud559\\uad50\", \"\\ub9e4\\uc7a5\", \"\\uba54\\uc778\", \"\\ubb38\\uc81c\", \"\\ubc84\\uc2a4\\uc815\\ub958\\uc7a5\", \"\\ubcf4\\uad6d\\ubb38\", \"\\uc900\\ube44\", \"\\ud2b9\\uc0c9\", \"\\ub300\\ucda9\", \"\\ub9e4\\ud45c\\uc18c\", \"\\ubcf4\\uc774\", \"\\uc0c8\\ub9c8\\uc744\", \"\\uc120\\ub989\\uc5ed\", \"\\uc120\\uc815\\ub989\", \"\\uc218\\uc120\", \"\\uc88c\\ud68c\\uc804\", \"\\uc8fc\\uc6b1\", \"\\ucd9c\\uad6c\", \"\\uba54\\ub274\", \"\\ubd81\\ud55c\", \"\\uc7a5\\ub0b4\", \"\\uc18c\\uac1c\", \"\\uc2dd\\ub2f9\", \"\\uc704\\uce58\", \"\\uce74\\ub808\", \"\\ud638\\ud638\", \"\\uac00\\uc9c0\", \"\\uad6c\\uacbd\", \"\\ubcc4\\ub85c\", \"\\ubcf6\\uc74c\\ubc25\", \"\\uc871\\ubc1c\", \"\\uc11c\\uc6b8\\ud2b9\\ubcc4\\uc2dc\", \"\\uacf5\\uae30\", \"\\uac8c\\uc2dc\\ud310\", \"\\ub300\\ud589\", \"\\uc694\\uae30\", \"\\uc900\\uc218\", \"\\uce74\\uce74\\uc624\", \"\\ud035\\uc11c\\ube44\\uc2a4\", \"\\ud30c\\ud2b8\\ub108\", \"\\ud3ed\\uaca9\", \"\\uacb8\\uc0ac\\uacb8\\uc0ac\", \"\\uae4d\\ub450\\uae30\", \"\\uc815\\ubaa8\", \"\\ucac4\\ub798\\ucac4\\ub798\", \"\\ud53c\\ub9e5\", \"\\ud559\\uc6d0\", \"\\uc140\\ud504\", \"\\uc74c\\ub8cc\", \"\\uc790\\ub77d\", \"\\ud63c\\uc790\", \"\\uac15\\ub3d9\\uad6c\", \"\\uae08\\ubb38\", \"\\ub3d9\\ubb18\\uc5ed\", \"\\ub2e4\\uc74c\", \"\\ub3d9\\ub124\", \"\\ubc30\\ub2ec\", \"\\uc5ed\\uc871\", \"\\uc131\\uc2e0\\uc5ec\\ub300\", \"\\uacf1\\ucc3d\", \"\\uce7c\\uad6d\\uc218\", \"\\uc18c\\uac1c\", \"\\uc800\\ub141\", \"\\uc815\\ub989\\ub3d9\", \"\\uc704\\uce58\", \"\\uc800\\ud76c\", \"\\uc624\\ub298\", \"\\uc131\\ubd81\\uad6c\", \"\\uc544\\uad6c\\ucc1c\", \"\\ucd94\\ucc9c\", \"\\uc544\\ub9ac\\ub791\", \"\\ubc31\\uc885\\uc6d0\", \"\\uc0ac\\uc7a5\", \"\\ubaa8\\ub450\", \"\\uc9dc\\uc7a5\\uba74\", \"\\ubcf4\\ub9ac\\ubc25\", \"\\uc790\\uc8fc\", \"\\uae40\\uc131\\uc8fc\", \"\\uc7a5\\ud3b8\", \"\\uac1c\\uc778\", \"\\ud655\\uc778\", \"\\uc6b4\\uc601\", \"\\uac70\\uc758\", \"\\uace8\\ubaa9\", \"\\uc0c1\\uad8c\", \"\\uc0dd\\ud65c\", \"\\uc13c\\ud130\", \"\\uc740\\ud589\", \"\\ud504\\ub85c\", \"\\ud658\\uacbd\", \"\\uce5c\\uad6c\", \"\\uc7a5\\uc218\\uc2dd\", \"\\uce74\\ud398\", \"\\ubb38\\uac04\", \"\\ud30c\\uc2a4\\ud0c0\", \"\\ubcf4\\uc2dc\", \"\\uc77c\\uc694\\uc77c\", \"\\uccad\\uad6d\\uc7a5\", \"\\ub9c8\\ubabd\\ud568\\ubc15\", \"\\uc8fc\\ubbfc\", \"\\uc2dd\\ub2f9\", \"\\ucd94\\ucc9c\", \"\\uc694\\uc998\", \"\\uccad\\ub144\"], \"Freq\": [12.0, 11.0, 10.0, 14.0, 34.0, 8.0, 7.0, 5.0, 8.0, 5.0, 8.0, 5.0, 5.0, 5.0, 8.0, 7.0, 7.0, 7.0, 4.0, 6.0, 5.0, 6.0, 5.0, 6.0, 6.0, 4.0, 3.0, 3.0, 4.0, 4.0, 3.519991699606536, 4.309828102981919, 2.3460869746164574, 2.3357017015507813, 2.2566146065421924, 2.0761547942915795, 2.0759422917016757, 2.0756899831511264, 2.075689779017995, 1.8050841634922588, 1.8050841634922588, 1.8050841634922588, 1.8050841634922588, 1.8050841634922588, 1.8050841634922588, 1.8050841634922588, 1.8050841634922588, 1.8050841634922588, 1.8050841634922588, 1.8050841634922588, 1.8050841634922588, 1.805095799080755, 1.805095799080755, 1.805095799080755, 1.805095799080755, 1.805095799080755, 1.805095799080755, 1.805095799080755, 1.805095799080755, 1.8047404032987924, 2.0036763052825624, 3.519947198583866, 2.3179841705343227, 6.2442401995442545, 1.9461174985894996, 2.5527095096673147, 3.0214393938459287, 2.395580481283479, 3.719417929372198, 2.347229303620399, 2.2070668004621887, 7.799326660688177, 4.771379207870786, 4.281080185917505, 3.913686277871905, 3.181780997890331, 3.1573871833806018, 4.277061316061319, 6.604408941027146, 2.814658383713283, 2.8146937294287286, 2.810277375298848, 2.810277065248713, 2.4474269419386787, 2.4474269419386787, 2.4474269419386787, 2.4474269419386787, 2.4474269419386787, 2.4474269419386787, 2.4474269419386787, 2.4474269419386787, 2.447102784522027, 2.447102784522027, 2.447102784522027, 2.447102784522027, 2.447102784522027, 2.447102784522027, 2.447102784522027, 2.447102784522027, 2.447102784522027, 2.447102784522027, 4.517154219378298, 2.814671715869109, 2.8102221863747316, 5.12466552470158, 10.053161708580117, 2.7985571701272955, 2.7457329983939287, 3.9089573932054535, 3.9375793614128223, 3.496993778183564, 2.744729056055221, 2.747168220471099, 2.941866993501528, 3.163148845048361, 4.842420678422051, 3.3436501629995687, 3.342654573700651, 2.6519229206234973, 4.697744169984081, 2.3060427439066817, 2.3033500247767855, 2.3033500247767855, 2.3033500247767855, 2.3033500247767855, 2.219257533254875, 2.219257533254875, 2.219257533254875, 2.996965161826825, 2.4168255697873904, 2.6502720710207, 1.498657824948171, 1.498555011351826, 2.2250325908340285, 1.1528943835223564, 0.8069803432239446, 0.8069802491584402, 0.8066985229726636, 0.8066504554998984, 0.8065288288026667, 0.8059940664099657, 1.1143872583001844, 2.296500174743982, 3.342327225745225, 0.806980437289449, 3.3391967257576978, 3.32580405549856, 2.756879141028624, 1.4988072009692104, 1.3733844903060881, 1.152805867882685, 1.152891467491719, 1.2442801498649667, 5.095338242116917, 4.1177493462636745, 3.8258923765630115, 2.55138259281292, 2.538843201038562, 2.255978627924455, 2.226796289153273, 3.281491479080385, 3.4324431332501932, 3.482372793313563, 1.9624304774562096, 1.9624304774562096, 1.9624304774562096, 1.9624304774562096, 1.9623432461924986, 1.9623432461924986, 1.9623432461924986, 1.9623432461924986, 1.9623432461924986, 1.9623432461924986, 1.9623432461924986, 1.9619107757019871, 1.9619107757019871, 1.9619107757019871, 1.9619107757019871, 1.9619107757019871, 1.9619107757019871, 1.9619107757019871, 1.9619107757019871, 1.9619107757019871, 5.7691370952083965, 5.8778428121775, 4.125965056974042, 2.1935898452307994, 2.89749495132319, 3.914214645375172, 2.747711499875147, 4.734765594626368, 4.734765594626368, 3.6726082353153, 3.428663744542527, 3.1835211073208076, 4.1608753771759925, 2.1223498180657328, 1.8772599870141464, 1.8722446784201392, 1.6327136549515304, 1.6327136549515304, 1.6327136549515304, 1.6327136549515304, 1.6327136549515304, 1.6327136549515304, 1.6327136549515304, 1.6327136549515304, 1.6325899437223075, 1.6325899437223075, 1.6325899437223075, 1.6325899437223075, 1.6325899437223075, 1.6325899437223075, 1.6325173352383744, 1.6325173352383744, 1.6325173352383744, 1.6325173352383744, 1.632186870818832, 1.632186870818832, 1.632186870818832, 2.562394280189684, 8.057482275921151, 4.895493097400198, 2.1222576201961054, 3.183875206760047, 2.345112220915782, 2.5326041477509578, 3.749462931525632, 3.3650410395845256, 2.1219190645085586, 3.1873112275964863, 1.8356955691324877, 2.4477940316675975, 1.9925096662576276, 1.7960511239769972, 1.689695345230985, 10.690100990449658, 10.007072605740907, 6.563813453328917, 6.140833626155752, 5.747689883642857, 5.738518781455212, 3.546565353507115, 3.150169399049882, 3.1496522583151556, 3.1481669707651374, 3.1450041212559325, 3.1142102132385796, 3.0879208816897115, 12.009026011407672, 2.741778876584465, 2.741778876584465, 2.741778876584465, 2.741778876584465, 2.741778876584465, 2.741778876584465, 3.061530251207154, 2.192911896521317, 2.90941409447722, 3.5538108081304554, 4.7903817316474475, 3.1523505522048936, 3.149734200764701, 1.7820677783865553, 4.245748659882831, 2.6375472742432016, 16.540972548472975, 3.306038778055427, 3.424329801350985, 3.552854597813719], \"Total\": [12.0, 11.0, 10.0, 14.0, 34.0, 8.0, 7.0, 5.0, 8.0, 5.0, 8.0, 5.0, 5.0, 5.0, 8.0, 7.0, 7.0, 7.0, 4.0, 6.0, 5.0, 6.0, 5.0, 6.0, 6.0, 4.0, 3.0, 3.0, 4.0, 4.0, 4.0744747976120355, 5.2397306507702215, 2.9010304436076706, 2.902106160688169, 2.810476058052486, 2.63001673258914, 2.6300792087703884, 2.6302547449446396, 2.630254552569696, 2.3592391802571484, 2.3592391802571484, 2.3592391802571484, 2.3592391802571484, 2.3592391802571484, 2.3592391802571484, 2.3592391802571484, 2.3592391802571484, 2.3592391802571484, 2.3592391802571484, 2.3592391802571484, 2.3592391802571484, 2.3593334132268677, 2.3593334132268677, 2.3593334132268677, 2.3593334132268677, 2.3593334132268677, 2.3593334132268677, 2.3593334132268677, 2.3593334132268677, 2.359371590625258, 2.6558022145851297, 5.6263538016552355, 3.326418056281791, 17.19298912784225, 2.6691887862614645, 6.700619536649815, 11.385902039183504, 5.575850327672762, 34.440236593703375, 8.693356591773203, 7.94767450852857, 8.63787355769734, 5.2947269694781545, 4.804922622347307, 4.437732213559193, 3.7037136864813607, 3.699055548068597, 5.048192785156421, 7.821391610862468, 3.3365478684633683, 3.336598065144199, 3.3350791016701042, 3.3350788349714873, 2.9694563322894187, 2.9694563322894187, 2.9694563322894187, 2.9694563322894187, 2.9694563322894187, 2.9694563322894187, 2.9694563322894187, 2.9694563322894187, 2.96931147225234, 2.96931147225234, 2.96931147225234, 2.96931147225234, 2.96931147225234, 2.96931147225234, 2.96931147225234, 2.96931147225234, 2.96931147225234, 2.96931147225234, 6.50438725199956, 3.607368761421326, 3.6294822191684633, 9.431433453575137, 34.440236593703375, 3.743683036721469, 3.663825006530697, 8.46059153224527, 12.449550348883104, 11.385902039183504, 4.768805378665219, 5.575850327672762, 8.277721566833423, 17.19298912784225, 5.371581903552067, 3.8726532783543908, 3.8727019403801903, 3.1808118399110454, 5.766028167757693, 2.834897589885814, 2.8341355808491695, 2.8341355808491695, 2.8341355808491695, 2.8341355808491695, 2.8508527615005943, 2.8508527615005943, 2.8508527615005943, 3.9378433129868213, 3.225289959954092, 3.548059656259763, 2.027641454263547, 2.0276927855034743, 3.205849652371886, 1.6817497141984632, 1.3358352037717918, 1.3358351017915757, 1.335838634673802, 1.3358553166601832, 1.335901177994388, 1.3356883042780499, 2.0874087150409766, 4.54753165741872, 6.700619536649815, 1.6304962328281303, 7.526929910736063, 7.94767450852857, 6.878951184573971, 3.7421781884079337, 3.2593228387342235, 2.6583446543419953, 3.004889841266697, 14.153636454917438, 5.648685101768264, 4.668850089525492, 4.373976785996078, 3.0976126076247548, 3.0954216374359445, 2.8035911215524005, 2.7982611231263608, 4.149295237798339, 4.348316547466156, 4.436428501063946, 2.508832428662261, 2.508832428662261, 2.508832428662261, 2.508832428662261, 2.508788695064977, 2.508788695064977, 2.508788695064977, 2.508788695064977, 2.508788695064977, 2.508788695064977, 2.508788695064977, 2.5090087193078707, 2.5090087193078707, 2.5090087193078707, 2.5090087193078707, 2.5090087193078707, 2.5090087193078707, 2.5090087193078707, 2.5090087193078707, 2.5090087193078707, 7.4413025258502135, 8.693356591773203, 8.46059153224527, 3.2397377730536263, 9.066290671862824, 34.440236593703375, 17.19298912784225, 5.298223100372665, 5.298223100372665, 4.2373278203867155, 3.9918048186918513, 3.74689106821982, 5.094762846139257, 2.685338252998622, 2.4405773933982777, 2.4424954735722793, 2.1953523932345105, 2.1953523932345105, 2.1953523932345105, 2.1953523932345105, 2.1953523932345105, 2.1953523932345105, 2.1953523932345105, 2.1953523932345105, 2.195470511855855, 2.195470511855855, 2.195470511855855, 2.195470511855855, 2.195470511855855, 2.195470511855855, 2.195480644380945, 2.195480644380945, 2.195480644380945, 2.195480644380945, 2.1957207408587496, 2.1957207408587496, 2.1957207408587496, 3.4819228498534267, 12.449550348883104, 8.277721566833423, 3.0967650291972593, 5.61094072551072, 3.654634757104477, 4.46344828101442, 9.066290671862824, 7.526929910736063, 3.9188136940015275, 17.19298912784225, 3.500469946434732, 11.385902039183504, 4.992100969126624, 3.7421781884079337, 6.327278064134646, 11.201587023854747, 10.51609967545071, 7.082475071966641, 6.6733165140917166, 6.261584112800479, 6.260354341811179, 4.06469333306756, 3.659356146697092, 3.6599800816022965, 3.6589080910092493, 3.6580647188313486, 3.6448086662598733, 3.638326732194139, 14.153636454917438, 3.249344198309352, 3.249344198309352, 3.249344198309352, 3.249344198309352, 3.249344198309352, 3.249344198309352, 3.634604927618339, 2.7004859417983127, 3.5911840624314837, 4.414486949665549, 6.11524563193193, 4.027797574180786, 4.027077843371476, 2.2893309325181033, 5.48879745493685, 3.605294810895509, 34.440236593703375, 6.327278064134646, 6.878951184573971, 9.431433453575137], \"Category\": [\"Default\", \"Default\", \"Default\", \"Default\", \"Default\", \"Default\", \"Default\", \"Default\", \"Default\", \"Default\", \"Default\", \"Default\", \"Default\", \"Default\", \"Default\", \"Default\", \"Default\", \"Default\", \"Default\", \"Default\", \"Default\", \"Default\", \"Default\", \"Default\", \"Default\", \"Default\", \"Default\", \"Default\", \"Default\", \"Default\", \"Topic1\", \"Topic1\", \"Topic1\", \"Topic1\", \"Topic1\", \"Topic1\", \"Topic1\", \"Topic1\", \"Topic1\", \"Topic1\", \"Topic1\", \"Topic1\", \"Topic1\", \"Topic1\", \"Topic1\", \"Topic1\", \"Topic1\", \"Topic1\", \"Topic1\", \"Topic1\", \"Topic1\", \"Topic1\", \"Topic1\", \"Topic1\", \"Topic1\", \"Topic1\", \"Topic1\", \"Topic1\", \"Topic1\", \"Topic1\", \"Topic1\", \"Topic1\", \"Topic1\", \"Topic1\", \"Topic1\", \"Topic1\", \"Topic1\", \"Topic1\", \"Topic1\", \"Topic1\", \"Topic1\", \"Topic2\", \"Topic2\", \"Topic2\", \"Topic2\", \"Topic2\", \"Topic2\", \"Topic2\", \"Topic2\", \"Topic2\", \"Topic2\", \"Topic2\", \"Topic2\", \"Topic2\", \"Topic2\", \"Topic2\", \"Topic2\", \"Topic2\", \"Topic2\", \"Topic2\", \"Topic2\", \"Topic2\", \"Topic2\", \"Topic2\", \"Topic2\", \"Topic2\", \"Topic2\", \"Topic2\", \"Topic2\", \"Topic2\", \"Topic2\", \"Topic2\", \"Topic2\", \"Topic2\", \"Topic2\", \"Topic2\", \"Topic2\", \"Topic2\", \"Topic2\", \"Topic2\", \"Topic2\", \"Topic2\", \"Topic2\", \"Topic2\", \"Topic2\", \"Topic3\", \"Topic3\", \"Topic3\", \"Topic3\", \"Topic3\", \"Topic3\", \"Topic3\", \"Topic3\", \"Topic3\", \"Topic3\", \"Topic3\", \"Topic3\", \"Topic3\", \"Topic3\", \"Topic3\", \"Topic3\", \"Topic3\", \"Topic3\", \"Topic3\", \"Topic3\", \"Topic3\", \"Topic3\", \"Topic3\", \"Topic3\", \"Topic3\", \"Topic3\", \"Topic3\", \"Topic3\", \"Topic3\", \"Topic3\", \"Topic3\", \"Topic3\", \"Topic3\", \"Topic3\", \"Topic3\", \"Topic3\", \"Topic3\", \"Topic3\", \"Topic4\", \"Topic4\", \"Topic4\", \"Topic4\", \"Topic4\", \"Topic4\", \"Topic4\", \"Topic4\", \"Topic4\", \"Topic4\", \"Topic4\", \"Topic4\", \"Topic4\", \"Topic4\", \"Topic4\", \"Topic4\", \"Topic4\", \"Topic4\", \"Topic4\", \"Topic4\", \"Topic4\", \"Topic4\", \"Topic4\", \"Topic4\", \"Topic4\", \"Topic4\", \"Topic4\", \"Topic4\", \"Topic4\", \"Topic4\", \"Topic4\", \"Topic4\", \"Topic4\", \"Topic4\", \"Topic4\", \"Topic4\", \"Topic4\", \"Topic5\", \"Topic5\", \"Topic5\", \"Topic5\", \"Topic5\", \"Topic5\", \"Topic5\", \"Topic5\", \"Topic5\", \"Topic5\", \"Topic5\", \"Topic5\", \"Topic5\", \"Topic5\", \"Topic5\", \"Topic5\", \"Topic5\", \"Topic5\", \"Topic5\", \"Topic5\", \"Topic5\", \"Topic5\", \"Topic5\", \"Topic5\", \"Topic5\", \"Topic5\", \"Topic5\", \"Topic5\", \"Topic5\", \"Topic5\", \"Topic5\", \"Topic5\", \"Topic5\", \"Topic5\", \"Topic5\", \"Topic5\", \"Topic5\", \"Topic5\", \"Topic5\", \"Topic5\", \"Topic5\", \"Topic5\", \"Topic5\", \"Topic5\", \"Topic5\", \"Topic5\", \"Topic6\", \"Topic6\", \"Topic6\", \"Topic6\", \"Topic6\", \"Topic6\", \"Topic6\", \"Topic6\", \"Topic6\", \"Topic6\", \"Topic6\", \"Topic6\", \"Topic6\", \"Topic6\", \"Topic6\", \"Topic6\", \"Topic6\", \"Topic6\", \"Topic6\", \"Topic6\", \"Topic6\", \"Topic6\", \"Topic6\", \"Topic6\", \"Topic6\", \"Topic6\", \"Topic6\", \"Topic6\", \"Topic6\", \"Topic6\", \"Topic6\", \"Topic6\", \"Topic6\", \"Topic6\"], \"logprob\": [30.0, 29.0, 28.0, 27.0, 26.0, 25.0, 24.0, 23.0, 22.0, 21.0, 20.0, 19.0, 18.0, 17.0, 16.0, 15.0, 14.0, 13.0, 12.0, 11.0, 10.0, 9.0, 8.0, 7.0, 6.0, 5.0, 4.0, 3.0, 2.0, 1.0, -4.1315, -3.929, -4.5372, -4.5416, -4.5761, -4.6594, -4.6595, -4.6596, -4.6596, -4.7993, -4.7993, -4.7993, -4.7993, -4.7993, -4.7993, -4.7993, -4.7993, -4.7993, -4.7993, -4.7993, -4.7993, -4.7993, -4.7993, -4.7993, -4.7993, -4.7993, -4.7993, -4.7993, -4.7993, -4.7995, -4.6949, -4.1315, -4.5492, -3.5583, -4.7241, -4.4528, -4.2842, -4.5163, -4.0764, -4.5367, -4.5983, -3.7538, -4.2452, -4.3537, -4.4434, -4.6504, -4.6581, -4.3546, -3.9201, -4.773, -4.773, -4.7746, -4.7746, -4.9128, -4.9128, -4.9128, -4.9128, -4.9128, -4.9128, -4.9128, -4.9128, -4.913, -4.913, -4.913, -4.913, -4.913, -4.913, -4.913, -4.913, -4.913, -4.913, -4.3, -4.773, -4.7746, -4.1738, -3.5, -4.7788, -4.7978, -4.4446, -4.4373, -4.556, -4.7982, -4.7973, -4.7288, -4.6563, -3.7309, -4.1012, -4.1015, -4.333, -3.7612, -4.4728, -4.4739, -4.4739, -4.4739, -4.4739, -4.5111, -4.5111, -4.5111, -4.2107, -4.4258, -4.3336, -4.9037, -4.9038, -4.5085, -5.166, -5.5227, -5.5227, -5.5231, -5.5232, -5.5233, -5.524, -5.2, -4.4769, -4.1016, -5.5227, -4.1026, -4.1066, -4.2942, -4.9036, -4.991, -5.1661, -5.166, -5.0897, -3.7647, -3.9777, -4.0512, -4.4564, -4.4613, -4.5794, -4.5925, -4.2047, -4.1598, -4.1453, -4.7188, -4.7188, -4.7188, -4.7188, -4.7189, -4.7189, -4.7189, -4.7189, -4.7189, -4.7189, -4.7189, -4.7191, -4.7191, -4.7191, -4.7191, -4.7191, -4.7191, -4.7191, -4.7191, -4.7191, -3.6405, -3.6218, -3.9757, -4.6075, -4.3292, -4.0284, -4.3823, -3.8772, -3.8772, -4.1312, -4.1999, -4.2741, -4.0064, -4.6796, -4.8023, -4.805, -4.9419, -4.9419, -4.9419, -4.9419, -4.9419, -4.9419, -4.9419, -4.9419, -4.9419, -4.9419, -4.9419, -4.9419, -4.9419, -4.9419, -4.942, -4.942, -4.942, -4.942, -4.9422, -4.9422, -4.9422, -4.4912, -3.3455, -3.8438, -4.6796, -4.274, -4.5798, -4.5029, -4.1105, -4.2187, -4.6798, -4.2729, -4.8247, -4.5369, -4.7427, -4.8465, -4.9076, -3.4783, -3.5443, -3.966, -4.0326, -4.0988, -4.1004, -4.5816, -4.7001, -4.7003, -4.7008, -4.7018, -4.7116, -4.7201, -3.3619, -4.839, -4.839, -4.839, -4.839, -4.839, -4.839, -4.7287, -5.0624, -4.7796, -4.5796, -4.281, -4.6994, -4.7003, -5.2698, -4.4017, -4.8777, -3.0417, -4.6518, -4.6167, -4.5798], \"loglift\": [30.0, 29.0, 28.0, 27.0, 26.0, 25.0, 24.0, 23.0, 22.0, 21.0, 20.0, 19.0, 18.0, 17.0, 16.0, 15.0, 14.0, 13.0, 12.0, 11.0, 10.0, 9.0, 8.0, 7.0, 6.0, 5.0, 4.0, 3.0, 2.0, 1.0, 1.8092, 1.7601, 1.7431, 1.7383, 1.736, 1.719, 1.7188, 1.7187, 1.7187, 1.6877, 1.6877, 1.6877, 1.6877, 1.6877, 1.6877, 1.6877, 1.6877, 1.6877, 1.6877, 1.6877, 1.6877, 1.6877, 1.6877, 1.6877, 1.6877, 1.6877, 1.6877, 1.6877, 1.6877, 1.6875, 1.6737, 1.4864, 1.5942, 0.9426, 1.6395, 0.9904, 0.6288, 1.1106, -0.2702, 0.6461, 0.6742, 1.4354, 1.4334, 1.422, 1.4118, 1.3856, 1.3791, 1.3717, 1.3684, 1.3674, 1.3674, 1.3663, 1.3663, 1.3441, 1.3441, 1.3441, 1.3441, 1.3441, 1.3441, 1.3441, 1.3441, 1.3441, 1.3441, 1.3441, 1.3441, 1.3441, 1.3441, 1.3441, 1.3441, 1.3441, 1.3441, 1.1729, 1.2893, 1.2817, 0.9275, 0.3061, 1.2465, 1.249, 0.7653, 0.3864, 0.357, 0.9851, 0.8296, 0.503, -0.1555, 1.9334, 1.8902, 1.8899, 1.8552, 1.8322, 1.8306, 1.8297, 1.8297, 1.8297, 1.8297, 1.7866, 1.7866, 1.7866, 1.764, 1.7485, 1.7453, 1.7348, 1.7347, 1.6719, 1.6595, 1.5331, 1.5331, 1.5327, 1.5326, 1.5325, 1.532, 1.4095, 1.3539, 1.3415, 1.3337, 1.2243, 1.1659, 1.1227, 1.1221, 1.1728, 1.2016, 1.0791, -0.3943, 1.8492, 1.8267, 1.8185, 1.7583, 1.7541, 1.735, 1.7239, 1.7177, 1.7158, 1.7102, 1.7067, 1.7067, 1.7067, 1.7067, 1.7067, 1.7067, 1.7067, 1.7067, 1.7067, 1.7067, 1.7067, 1.7064, 1.7064, 1.7064, 1.7064, 1.7064, 1.7064, 1.7064, 1.7064, 1.7064, 1.6978, 1.561, 1.2342, 1.5624, 0.8116, -0.2223, 0.1186, 1.8008, 1.8008, 1.7702, 1.7612, 1.7503, 1.7108, 1.678, 1.6508, 1.6474, 1.6172, 1.6172, 1.6172, 1.6172, 1.6172, 1.6172, 1.6172, 1.6172, 1.617, 1.617, 1.617, 1.617, 1.617, 1.617, 1.617, 1.617, 1.617, 1.617, 1.6167, 1.6167, 1.6167, 1.6066, 1.4782, 1.388, 1.5354, 1.3466, 1.4696, 1.3466, 1.0303, 1.1082, 1.2998, 0.2279, 1.2678, 0.3761, 0.9948, 1.1792, 0.5929, 1.451, 1.4482, 1.4217, 1.4146, 1.4121, 1.4107, 1.3614, 1.3479, 1.3476, 1.3474, 1.3467, 1.3404, 1.3338, 1.3335, 1.3279, 1.3279, 1.3279, 1.3279, 1.3279, 1.3279, 1.3262, 1.2896, 1.2872, 1.2809, 1.2536, 1.2527, 1.2521, 1.2473, 1.241, 1.1852, 0.7644, 0.8487, 0.8002, 0.5215]}, \"token.table\": {\"Topic\": [4, 2, 5, 2, 3, 5, 6, 3, 6, 1, 5, 1, 5, 5, 1, 3, 1, 3, 6, 3, 2, 5, 5, 3, 2, 5, 2, 2, 3, 3, 3, 4, 1, 3, 4, 6, 5, 4, 6, 5, 1, 4, 3, 5, 4, 4, 5, 3, 4, 2, 3, 2, 5, 5, 1, 1, 1, 3, 2, 4, 1, 6, 2, 3, 3, 2, 2, 4, 1, 4, 2, 3, 1, 4, 4, 6, 2, 1, 2, 6, 6, 1, 4, 4, 1, 1, 2, 5, 6, 4, 3, 2, 5, 4, 6, 6, 4, 2, 5, 2, 4, 2, 4, 1, 2, 4, 6, 2, 6, 1, 2, 6, 1, 4, 2, 6, 5, 4, 4, 1, 3, 5, 6, 4, 5, 6, 5, 2, 4, 5, 6, 1, 2, 4, 2, 1, 2, 3, 4, 2, 3, 2, 1, 1, 2, 4, 6, 3, 5, 6, 2, 3, 3, 2, 5, 6, 3, 1, 2, 5, 6, 3, 1, 6, 3, 6, 2, 4, 2, 5, 3, 6, 3, 4, 6, 2, 2, 1, 2, 3, 4, 5, 6, 6, 5, 2, 6, 1, 4, 1, 1, 6, 1, 1, 3, 5, 6, 4, 6, 6, 6, 3, 5, 5, 6, 1, 2, 2, 2, 1, 2, 1, 3, 5, 3, 6, 3, 5, 3, 6, 5, 4, 3, 2, 6, 3, 4, 4, 5, 1, 1, 3, 4, 6, 5, 3, 3, 6, 2, 6, 1, 4, 1, 2, 5, 6, 4, 6, 3, 1, 6, 5, 5, 6, 5, 6, 2, 5, 1, 1, 4, 1, 6, 5, 1, 2, 5, 1, 6, 5, 5, 2, 1, 1, 2, 5, 5, 6, 6, 3], \"Freq\": [0.6899221726965015, 0.8995288892841231, 0.9439911589457678, 0.30681219672867865, 0.30681219672867865, 0.9108626442257849, 0.8199167416562517, 0.7015444736427799, 0.8245548629412983, 0.7109400050212319, 0.35547000251061595, 0.8476833441357066, 0.9110154734900263, 0.910966459899923, 0.847730919669623, 0.7015444736427799, 0.07065322068891823, 0.07065322068891823, 0.8478386482670188, 0.7746626884384528, 0.27362515448528374, 0.5472503089705675, 0.8188346802030686, 0.5946188018094053, 0.6735239640510293, 0.7515397511301982, 0.9013612826340148, 0.8949813982307564, 0.12785448546153663, 0.7486776643900525, 0.7056825416237694, 0.7147295809783104, 0.251645937167384, 0.377468905751076, 0.125822968583692, 0.125822968583692, 0.9108626442257849, 0.7230143501651217, 0.8198163501269965, 0.910966459899923, 0.8476970608679651, 0.7971835731836515, 0.9308244926310533, 0.8615928983395731, 0.8851617517915452, 0.7971275606215172, 0.9110154734900263, 0.7485953907475815, 0.856742007839136, 0.6735568224113992, 0.7485934109430737, 0.32129674469398445, 0.6425934893879689, 0.9108626442257849, 0.7604333714858108, 0.847730919669623, 0.4397990273992385, 0.4397990273992385, 0.6735568224113992, 0.7133707852850393, 0.18218926972802738, 0.7287570789121095, 0.31192978724380854, 0.6238595744876171, 0.7056825416237694, 0.9443357568431517, 0.6735568224113992, 0.7971974698124986, 0.8476970608679651, 0.7971275606215172, 0.8995289612173885, 0.9431554430091338, 0.23006073418093342, 0.6901822025428003, 0.7971974698124986, 0.8991031651698361, 0.6735239640510293, 0.760451435619227, 0.8013498927588834, 0.2671166309196278, 0.9061075603141263, 0.847730919669623, 0.7971974698124986, 0.9144995951525351, 0.8476970608679651, 0.7492913241259537, 0.3624185684162395, 0.6040309473603992, 0.9509228999934721, 0.7971974698124986, 0.7056825416237694, 0.6735568224113992, 0.8006637890931069, 0.7971974698124986, 0.958412203591681, 0.7448239254203757, 0.7971275606215172, 0.6735239640510293, 0.7851199596132619, 0.4727801814749094, 0.4727801814749094, 0.6735568224113992, 0.7971835731836515, 0.8476970608679651, 0.768711918015477, 0.15374238360309542, 0.15374238360309542, 0.6735568224113992, 0.988355049452544, 0.7633980192115437, 0.832479586954496, 0.9232632238717318, 0.847730919669623, 0.7971275606215172, 0.9261538672178269, 0.9232632238717318, 0.8194782125778791, 0.7971275606215172, 0.7971275606215172, 0.20031646118226482, 0.20031646118226482, 0.40063292236452963, 0.20031646118226482, 0.35644646732887303, 0.5346697009933096, 0.9232632238717318, 0.9109622556312428, 0.11029869173547388, 0.33089607520642167, 0.4411947669418955, 0.11029869173547388, 0.8476970608679651, 0.8316310858161284, 0.7971275606215172, 0.6735239640510293, 0.8476970608679651, 0.33279090177177834, 0.33279090177177834, 0.33279090177177834, 0.6735568224113992, 0.8671480357933132, 0.6735568224113992, 0.847730919669623, 0.11614322070979356, 0.2903580517744839, 0.11614322070979356, 0.49360868801662267, 0.26722404697287766, 0.5344480939457553, 0.9820037086329418, 0.7923627662876702, 0.4931713557148653, 0.7054928570031898, 0.6735568224113992, 0.6458352445675991, 0.32291762228379955, 0.7746529544965406, 0.2634837353839673, 0.2634837353839673, 0.17565582358931153, 0.17565582358931153, 0.7485840626065207, 0.6012473375747495, 0.30062366878737473, 0.4790628652618084, 0.4790628652618084, 0.6735239640510293, 0.9691732989516136, 0.8188163994329856, 0.9110154734900263, 0.4361129944819919, 0.4361129944819919, 0.22540654036466035, 0.676219621093981, 0.8230884731401978, 0.811017829014869, 0.6735239640510293, 0.3489794564159659, 0.17448972820798295, 0.05816324273599432, 0.17448972820798295, 0.17448972820798295, 0.05816324273599432, 0.9232632238717318, 0.9109622556312428, 0.6290883694732988, 0.20969612315776628, 0.6891546653571574, 0.7971835731836515, 0.847730919669623, 0.7603826778081413, 0.7449570424713705, 0.847730919669623, 0.44771979420576746, 0.44771979420576746, 0.9109622556312428, 0.9840840802081525, 0.6173339140701172, 0.3086669570350586, 0.7406074473648828, 0.8196765919793298, 0.39856887676354463, 0.39856887676354463, 0.5713518557806853, 0.28567592789034263, 0.7530681272183612, 0.8991329117006304, 0.8991193849027027, 0.6735568224113992, 0.35868968542323776, 0.5380345281348566, 0.2551792654829919, 0.2551792654829919, 0.5103585309659838, 0.7618383367632078, 0.2539461122544026, 0.7485953335983767, 0.910966459899923, 0.37617394658237957, 0.37617394658237957, 0.7447851300545364, 0.7971275606215172, 0.6133102179975471, 0.2773698275597087, 0.8321094826791261, 0.6200992855936797, 0.7971275606215172, 0.7971974698124986, 0.9110154734900263, 0.847730919669623, 0.847730919669623, 0.7015444736427799, 0.9684877936690721, 0.9582239720671122, 0.910966459899923, 0.4931838407117233, 0.7485583638015184, 0.8736176896016254, 0.5301421066703991, 0.4241136853363192, 0.847730919669623, 0.7971835731836515, 0.7116232121137144, 0.15804584370463662, 0.31609168740927324, 0.4741375311139099, 0.8063104515851496, 0.1343850752641916, 0.7056825416237694, 0.9817216202550366, 0.8253992001176923, 0.9437126193588019, 0.9110154734900263, 0.8353790693671072, 0.6721260808063361, 0.44808405387089073, 0.6735239640510293, 0.9110154734900263, 0.6894102074685005, 0.8476970608679651, 0.7971974698124986, 0.16352572900396803, 0.8176286450198402, 0.9110154734900263, 0.8476970608679651, 0.6735239640510293, 0.9110154734900263, 0.847730919669623, 0.9232632238717318, 0.910966459899923, 0.910966459899923, 0.8265641815672866, 0.7603826221942982, 0.847730919669623, 0.809997816772411, 0.9437126193588019, 0.9109622556312428, 0.82010577466175, 0.9232632238717318, 0.8455325700928299], \"Term\": [\"\\uac00\\uac8c\", \"\\uac00\\uc871\", \"\\uac00\\uc9c0\", \"\\uac04\\uc7a5\", \"\\uac04\\uc7a5\", \"\\uac15\\ub3d9\\uad6c\", \"\\uac1c\\uc778\", \"\\uac70\\ub9ac\", \"\\uac70\\uc758\", \"\\uac74\\ubb3c\", \"\\uac74\\ubb3c\", \"\\uac83\\uc784\", \"\\uac8c\\uc2dc\\ud310\", \"\\uacb8\\uc0ac\\uacb8\\uc0ac\", \"\\uace0\\ub824\", \"\\uace0\\uc591\\uc774\", \"\\uace8\\ubaa9\", \"\\uace8\\ubaa9\", \"\\uace8\\ubaa9\", \"\\uace8\\ubaa9\\uae38\", \"\\uacf1\\ucc3d\", \"\\uacf1\\ucc3d\", \"\\uacf5\\uae30\", \"\\uacf5\\uc815\", \"\\uad00\\ub9ac\", \"\\uad6c\\uacbd\", \"\\uad6d\\ubb38\", \"\\uad6d\\ubbfc\\ub300\", \"\\uad6d\\ubbfc\\ub300\", \"\\uad6d\\ubc25\", \"\\uad70\\ub77d\", \"\\uadf8\\ub987\", \"\\uadfc\\ucc98\", \"\\uadfc\\ucc98\", \"\\uadfc\\ucc98\", \"\\uadfc\\ucc98\", \"\\uae08\\ubb38\", \"\\uae30\\ucc28\", \"\\uae40\\uc131\\uc8fc\", \"\\uae4d\\ub450\\uae30\", \"\\ub044\\uc755\", \"\\ub0b4\\uc77c\", \"\\ub290\\ub08c\", \"\\ub2e4\\uc74c\", \"\\ub300\\uad6d\", \"\\ub300\\ucda9\", \"\\ub300\\ud589\", \"\\ub355\\ubd84\", \"\\ub3c4\\ubcf4\", \"\\ub3c4\\uc0c9\", \"\\ub3c8\\uae4c\\uc2a4\", \"\\ub3d9\\ub124\", \"\\ub3d9\\ub124\", \"\\ub3d9\\ubb18\\uc5ed\", \"\\ub3d9\\uc548\", \"\\ub4f1\\ub4f1\", \"\\ub54c\\ubb38\", \"\\ub54c\\ubb38\", \"\\ub808\\uc77c\", \"\\ub9ac\\ubdf0\", \"\\ub9c8\\ubabd\\ud568\\ubc15\", \"\\ub9c8\\ubabd\\ud568\\ubc15\", \"\\ub9c8\\uc744\", \"\\ub9c8\\uc744\", \"\\ub9c8\\uc74c\", \"\\ub9c9\\uac78\\ub9ac\", \"\\ub9e4\\ubb3c\", \"\\ub9e4\\uc7a5\", \"\\ub9e4\\uc9c4\", \"\\ub9e4\\ud45c\\uc18c\", \"\\ub9e5\\uc8fc\", \"\\uba39\\uac70\\ub9ac\", \"\\uba54\\ub274\", \"\\uba54\\ub274\", \"\\uba54\\uc778\", \"\\ubaa8\\ub450\", \"\\ubaa8\\ub4e0\", \"\\ubb34\\ub8cc\", \"\\ubb34\\ud55c\\ub9ac\\ud544\", \"\\ubb34\\ud55c\\ub9ac\\ud544\", \"\\ubb38\\uac04\", \"\\ubb38\\uc758\", \"\\ubb38\\uc81c\", \"\\ubbfc\\uc18d\", \"\\ubc18\\uc8fd\", \"\\ubc29\\uc601\", \"\\ubc30\\ub2ec\", \"\\ubc30\\ub2ec\", \"\\ubc31\\uc885\\uc6d0\", \"\\ubc84\\uc2a4\\uc815\\ub958\\uc7a5\", \"\\ubc9a\\uaf43\", \"\\ubcbd\\uccb4\", \"\\ubcc4\\ub85c\", \"\\ubcf4\\uad6d\\ubb38\", \"\\ubcf4\\ub9ac\\ubc25\", \"\\ubcf4\\uc2dc\", \"\\ubcf4\\uc774\", \"\\ubcf4\\uc99d\\uae08\", \"\\ubcf6\\uc74c\\ubc25\", \"\\ubd81\\ud55c\", \"\\ubd81\\ud55c\", \"\\ubd88\\uac00\", \"\\ubd88\\ub9ac\", \"\\ube44\\ub85d\", \"\\uc0ac\\ub78c\", \"\\uc0ac\\ub78c\", \"\\uc0ac\\ub78c\", \"\\uc0ac\\ubb34\\uc2e4\", \"\\uc0ac\\uc7a5\", \"\\uc0ac\\uc9c4\", \"\\uc0b0\\ubcf4\", \"\\uc0c1\\uad8c\", \"\\uc0c1\\ud0dc\", \"\\uc0c8\\ub9c8\\uc744\", \"\\uc0dd\\uac01\", \"\\uc0dd\\ud65c\", \"\\uc11c\\uc6b8\\ud2b9\\ubcc4\\uc2dc\", \"\\uc120\\ub989\\uc5ed\", \"\\uc120\\uc815\\ub989\", \"\\uc131\\ubd81\\uad6c\", \"\\uc131\\ubd81\\uad6c\", \"\\uc131\\ubd81\\uad6c\", \"\\uc131\\ubd81\\uad6c\", \"\\uc131\\uc2e0\\uc5ec\\ub300\", \"\\uc131\\uc2e0\\uc5ec\\ub300\", \"\\uc13c\\ud130\", \"\\uc140\\ud504\", \"\\uc18c\\uac1c\", \"\\uc18c\\uac1c\", \"\\uc18c\\uac1c\", \"\\uc18c\\uac1c\", \"\\uc18c\\ub7c9\", \"\\uc18c\\uc2a4\", \"\\uc218\\uc120\", \"\\uc218\\uc555\", \"\\uc21c\\uc774\", \"\\uc22f\\ubd88\", \"\\uc22f\\ubd88\", \"\\uc22f\\ubd88\", \"\\uc2a4\\ud29c\\ub514\\uc624\", \"\\uc2dc\\uac04\", \"\\uc2dc\\uacf5\", \"\\uc2dc\\uae30\", \"\\uc2dd\\ub2f9\", \"\\uc2dd\\ub2f9\", \"\\uc2dd\\ub2f9\", \"\\uc2dd\\ub2f9\", \"\\uc544\\uad6c\\ucc1c\", \"\\uc544\\uad6c\\ucc1c\", \"\\uc544\\ub9ac\\ub791\", \"\\uc544\\uc8fc\", \"\\uc548\\ucabd\", \"\\uc57c\\uacbd\", \"\\uc5c5\\uc885\", \"\\uc5ed\\uc871\", \"\\uc5ed\\uc871\", \"\\uc601\\uc5c5\", \"\\uc624\\ub298\", \"\\uc624\\ub298\", \"\\uc624\\ub298\", \"\\uc624\\ub298\", \"\\uc624\\uc804\", \"\\uc624\\ud508\", \"\\uc624\\ud508\", \"\\uc624\\ud6c4\", \"\\uc624\\ud6c4\", \"\\uc625\\ud0d1\\ubc29\", \"\\uc678\\uad00\", \"\\uc678\\uc2dd\", \"\\uc694\\uae30\", \"\\uc694\\uc998\", \"\\uc694\\uc998\", \"\\uc6b0\\uc774\\uc2e0\\uc124\\uc120\", \"\\uc6b0\\uc774\\uc2e0\\uc124\\uc120\", \"\\uc6b4\\uc601\", \"\\uc6cc\\ub099\", \"\\uc6d4\\uc138\", \"\\uc704\\uce58\", \"\\uc704\\uce58\", \"\\uc704\\uce58\", \"\\uc704\\uce58\", \"\\uc704\\uce58\", \"\\uc704\\uce58\", \"\\uc740\\ud589\", \"\\uc74c\\ub8cc\", \"\\uc74c\\uc2dd\", \"\\uc74c\\uc2dd\", \"\\uc774\\uc0ac\", \"\\uc774\\uc11c\", \"\\uc778\\ud14c\\ub9ac\\uc5b4\", \"\\uc77c\\ub2e8\", \"\\uc77c\\uc694\\uc77c\", \"\\uc784\\ub300\\ub8cc\", \"\\uc785\\uad6c\", \"\\uc785\\uad6c\", \"\\uc790\\ub77d\", \"\\uc790\\uc8fc\", \"\\uc7a5\\ub0b4\", \"\\uc7a5\\ub0b4\", \"\\uc7a5\\uc218\\uc2dd\", \"\\uc7a5\\ud3b8\", \"\\uc800\\ub141\", \"\\uc800\\ub141\", \"\\uc800\\ud76c\", \"\\uc800\\ud76c\", \"\\uc804\\ubb38\", \"\\uc804\\uccb4\", \"\\uc804\\ud600\", \"\\uc810\\ub4f1\", \"\\uc815\\ub3c4\", \"\\uc815\\ub3c4\", \"\\uc815\\ub989\\ub3d9\", \"\\uc815\\ub989\\ub3d9\", \"\\uc815\\ub989\\ub3d9\", \"\\uc815\\ub989\\ucc9c\", \"\\uc815\\ub989\\ucc9c\", \"\\uc815\\ub9ac\", \"\\uc815\\ubaa8\", \"\\uc870\\uae08\", \"\\uc870\\uae08\", \"\\uc871\\ubc1c\", \"\\uc88c\\ud68c\\uc804\", \"\\uc8fc\\ub9d0\", \"\\uc8fc\\ubbfc\", \"\\uc8fc\\ubbfc\", \"\\uc8fc\\ubcc0\", \"\\uc8fc\\uc6b1\", \"\\uc900\\ube44\", \"\\uc900\\uc218\", \"\\uc9c0\\ubc88\", \"\\uc9c0\\ud558\", \"\\uc9c0\\ud558\\ucca0\", \"\\uc9c1\\uc9c4\", \"\\uc9dc\\uc7a5\\uba74\", \"\\ucac4\\ub798\\ucac4\\ub798\", \"\\ucb48\\uafb8\\ubbf8\", \"\\ucb48\\uc6b1\", \"\\uccad\\uad6d\\uc7a5\", \"\\uccad\\ub144\", \"\\uccad\\ub144\", \"\\uccad\\uc218\", \"\\ucd08\\ub4f1\\ud559\\uad50\", \"\\ucd08\\ubc25\", \"\\ucd94\\ucc9c\", \"\\ucd94\\ucc9c\", \"\\ucd94\\ucc9c\", \"\\ucd9c\\uad6c\", \"\\ucd9c\\uad6c\", \"\\ucd9c\\ud1f4\\uadfc\", \"\\uce35\\uc218\", \"\\uce5c\\uad6c\", \"\\uce74\\ub808\", \"\\uce74\\uce74\\uc624\", \"\\uce74\\ud398\", \"\\uce7c\\uad6d\\uc218\", \"\\uce7c\\uad6d\\uc218\", \"\\ucf78\\ucf78\", \"\\ud035\\uc11c\\ube44\\uc2a4\", \"\\ud0c0\\uace0\", \"\\ud22c\\uc5b4\", \"\\ud2b9\\uc0c9\", \"\\ud30c\\uc2a4\\ud0c0\", \"\\ud30c\\uc2a4\\ud0c0\", \"\\ud30c\\ud2b8\\ub108\", \"\\ud310\\ub9e4\", \"\\ud3ec\\ud568\", \"\\ud3ed\\uaca9\", \"\\ud504\\ub77c\\uc790\", \"\\ud504\\ub85c\", \"\\ud53c\\ub9e5\", \"\\ud559\\uc6d0\", \"\\ud55c\\uc794\", \"\\ud568\\ubc15\", \"\\ud574\\ub2f9\", \"\\ud604\\uc7ac\", \"\\ud638\\ud638\", \"\\ud63c\\uc790\", \"\\ud655\\uc778\", \"\\ud658\\uacbd\", \"\\ud734\\ubb34\"]}, \"R\": 30, \"lambda.step\": 0.01, \"plot.opts\": {\"xlab\": \"PC1\", \"ylab\": \"PC2\"}, \"topic.order\": [1, 2, 3, 4, 5, 6]};\n",
       "\n",
       "function LDAvis_load_lib(url, callback){\n",
       "  var s = document.createElement('script');\n",
       "  s.src = url;\n",
       "  s.async = true;\n",
       "  s.onreadystatechange = s.onload = callback;\n",
       "  s.onerror = function(){console.warn(\"failed to load library \" + url);};\n",
       "  document.getElementsByTagName(\"head\")[0].appendChild(s);\n",
       "}\n",
       "\n",
       "if(typeof(LDAvis) !== \"undefined\"){\n",
       "   // already loaded: just create the visualization\n",
       "   !function(LDAvis){\n",
       "       new LDAvis(\"#\" + \"ldavis_el731396864586443047882400958\", ldavis_el731396864586443047882400958_data);\n",
       "   }(LDAvis);\n",
       "}else if(typeof define === \"function\" && define.amd){\n",
       "   // require.js is available: use it to load d3/LDAvis\n",
       "   require.config({paths: {d3: \"https://d3js.org/d3.v5\"}});\n",
       "   require([\"d3\"], function(d3){\n",
       "      window.d3 = d3;\n",
       "      LDAvis_load_lib(\"https://cdn.jsdelivr.net/gh/bmabey/pyLDAvis@3.3.1/pyLDAvis/js/ldavis.v3.0.0.js\", function(){\n",
       "        new LDAvis(\"#\" + \"ldavis_el731396864586443047882400958\", ldavis_el731396864586443047882400958_data);\n",
       "      });\n",
       "    });\n",
       "}else{\n",
       "    // require.js not available: dynamically load d3 & LDAvis\n",
       "    LDAvis_load_lib(\"https://d3js.org/d3.v5.js\", function(){\n",
       "         LDAvis_load_lib(\"https://cdn.jsdelivr.net/gh/bmabey/pyLDAvis@3.3.1/pyLDAvis/js/ldavis.v3.0.0.js\", function(){\n",
       "                 new LDAvis(\"#\" + \"ldavis_el731396864586443047882400958\", ldavis_el731396864586443047882400958_data);\n",
       "            })\n",
       "         });\n",
       "}\n",
       "</script>"
      ],
      "text/plain": [
       "PreparedData(topic_coordinates=              x         y  topics  cluster       Freq\n",
       "topic                                                \n",
       "0      0.011264  0.117439       1        1  14.150179\n",
       "1      0.041470 -0.147052       2        1  21.492175\n",
       "2      0.010812  0.036265       3        1  13.040938\n",
       "3      0.051320 -0.091603       4        1  14.194203\n",
       "4     -0.224080  0.000580       5        1  14.759833\n",
       "5      0.109213  0.084370       6        1  22.362671, topic_info=    Term       Freq      Total Category  logprob  loglift\n",
       "105   동네  12.000000  12.000000  Default  30.0000  30.0000\n",
       "61   아리랑  11.000000  11.000000  Default  29.0000  29.0000\n",
       "56   백종원  10.000000  10.000000  Default  28.0000  28.0000\n",
       "0     골목  14.000000  14.000000  Default  27.0000  27.0000\n",
       "5     식당  34.000000  34.000000  Default  26.0000  26.0000\n",
       "..   ...        ...        ...      ...      ...      ...\n",
       "499   주민   2.637547   3.605295   Topic6  -4.8777   1.1852\n",
       "5     식당  16.540973  34.440237   Topic6  -3.0417   0.7644\n",
       "44    추천   3.306039   6.327278   Topic6  -4.6518   0.8487\n",
       "37    요즘   3.424330   6.878951   Topic6  -4.6167   0.8002\n",
       "283   청년   3.552855   9.431433   Topic6  -4.5798   0.5215\n",
       "\n",
       "[270 rows x 6 columns], token_table=      Topic      Freq Term\n",
       "term                      \n",
       "88        4  0.689922   가게\n",
       "196       2  0.899529   가족\n",
       "183       5  0.943991   가지\n",
       "48        2  0.306812   간장\n",
       "48        3  0.306812   간장\n",
       "...     ...       ...  ...\n",
       "630       5  0.943713   호호\n",
       "631       5  0.910962   혼자\n",
       "558       6  0.820106   확인\n",
       "690       6  0.923263   환경\n",
       "302       3  0.845533   휴무\n",
       "\n",
       "[280 rows x 3 columns], R=30, lambda_step=0.01, plot_opts={'xlab': 'PC1', 'ylab': 'PC2'}, topic_order=[1, 2, 3, 4, 5, 6])"
      ]
     },
     "execution_count": 133,
     "metadata": {},
     "output_type": "execute_result"
    }
   ],
   "source": [
    "\"\"\"\n",
    "위의 셀에서 학습한 모델을 시각화 하여 HTML 파일로 저장하는 셀입니다. \n",
    "문서의 양이 많을 경우 오래 걸리니 참고 바랍니다. \n",
    "\"\"\"\n",
    "def create_vis(model):\n",
    "    pyLDAvis.enable_notebook()\n",
    "    vis = pyLDAvis.gensim_models.prepare(model, corpus, id2word, sort_topics=False)\n",
    "    pyLDAvis.save_html(vis, RESULT_SAVE_LDAVIS)\n",
    "    return vis\n",
    "#lda_model or optimal_model\n",
    "create_vis(lda_model)"
   ]
  },
  {
   "cell_type": "markdown",
   "metadata": {
    "id": "Vmwk04PAxVWo"
   },
   "source": [
    "## 분석결과"
   ]
  },
  {
   "cell_type": "markdown",
   "metadata": {
    "id": "gDJEtz2Lxr-g"
   },
   "source": [
    "- 1번 TOPIC : 위치, 사진, 식당, 층수, 건물 등이 관련이 높은 것을 보아 1번 TOPIC은 정릉시장맛집들에 대한 위치 정보 및 생김세에 관한 TOPIC일 가능성이 높다.  \n",
    "- 2번 TOPIC : 식당, 생각, 국민대, 청년 등이 관련이 높은 것을 보아 2번 TOPIC은 국민대생들이 많이 가거나 국민대 근처에 있는 정릉시장맛집들일 가능성이 높다.  \n",
    "- 3번 TOPIC : 느낌, 시간, 골목길, 영업, 입구, 저녁, 근처 등이 관련이 높은 것을 보아 3번 TOPIC은 정릉시장맛집들에 대한 영업 시간 및 위치 및 음식점 분위기 등에 관한 TOPIC일 가능성이 높다.  \n",
    "- 4번 TOPIC : 메뉴, 출구, 대국, 북한, 도보, 식당, 민속, 우이신설선 등이 관련이 높은 것을 보아 4번 TOPIC은 우이신설선인 북한산보국문역 근처 맛집이거나 역과의 거리가 나와있는 TOPIC일 가능성이 높다.  \n",
    "- 5번 TOPIC : 동네, 배달, 카레, 호호, 볶음밥 등이 관련이 높은 것을 보아 5번 TOPIC은 배달이 되는 정릉시장 맛집들에 대한 정보거나 카레, 볶음밥 등등을 파는 음식점이 관련이 있는 TOPIC일 가능성이 높다.  \n",
    "- 6번 TOPIC : 식당, 골목, 아리랑, 백종원 등이 관련이 높은 것을 보아 6번 TOPIC은 백종원 골목 식당이라는 프로그램과 관련된 정릉시장 맛집일 가능성이 높다."
   ]
  }
 ],
 "metadata": {
  "accelerator": "GPU",
  "colab": {
   "collapsed_sections": [],
   "name": "20182786 강민수.ipynb",
   "provenance": []
  },
  "kernelspec": {
   "display_name": "Python 3",
   "language": "python",
   "name": "python3"
  },
  "language_info": {
   "codemirror_mode": {
    "name": "ipython",
    "version": 3
   },
   "file_extension": ".py",
   "mimetype": "text/x-python",
   "name": "python",
   "nbconvert_exporter": "python",
   "pygments_lexer": "ipython3",
   "version": "3.8.5"
  },
  "latex_metadata": {
   "author": "이기황",
   "coursetitle": "파이썬을 이용한 텍스트 마이닝 캠프",
   "courseyear": "2018",
   "date": "2018.06.28.",
   "logofile": "figs/fastcampus-logo.png",
   "logoraise": "-.3",
   "logoscale": ".2",
   "title": "키워드 분석"
  }
 },
 "nbformat": 4,
 "nbformat_minor": 1
}
